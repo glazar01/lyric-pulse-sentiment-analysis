{
  "cells": [
    {
      "cell_type": "markdown",
      "metadata": {
        "id": "view-in-github",
        "colab_type": "text"
      },
      "source": [
        "<a href=\"https://colab.research.google.com/github/glazar01/lyric-pulse-sentiment-analysis/blob/main/lyrics_analysis_model1.ipynb\" target=\"_parent\"><img src=\"https://colab.research.google.com/assets/colab-badge.svg\" alt=\"Open In Colab\"/></a>"
      ]
    },
    {
      "cell_type": "markdown",
      "metadata": {
        "id": "j3qHtE0nWyxs"
      },
      "source": [
        "# Preparation"
      ]
    },
    {
      "cell_type": "code",
      "source": [
        "gpu_info = !nvidia-smi\n",
        "gpu_info = '\\n'.join(gpu_info)\n",
        "if gpu_info.find('failed') >= 0:\n",
        "  print('Not connected to a GPU')\n",
        "else:\n",
        "  print(gpu_info)"
      ],
      "metadata": {
        "colab": {
          "base_uri": "https://localhost:8080/"
        },
        "id": "XfkE3jD_3LcR",
        "outputId": "cd83a26c-48cb-47a8-a6e3-479098bd75c7"
      },
      "execution_count": null,
      "outputs": [
        {
          "output_type": "stream",
          "name": "stdout",
          "text": [
            "Sun Oct 22 19:19:36 2023       \n",
            "+-----------------------------------------------------------------------------+\n",
            "| NVIDIA-SMI 525.105.17   Driver Version: 525.105.17   CUDA Version: 12.0     |\n",
            "|-------------------------------+----------------------+----------------------+\n",
            "| GPU  Name        Persistence-M| Bus-Id        Disp.A | Volatile Uncorr. ECC |\n",
            "| Fan  Temp  Perf  Pwr:Usage/Cap|         Memory-Usage | GPU-Util  Compute M. |\n",
            "|                               |                      |               MIG M. |\n",
            "|===============================+======================+======================|\n",
            "|   0  Tesla T4            Off  | 00000000:00:04.0 Off |                    0 |\n",
            "| N/A   65C    P8    10W /  70W |      0MiB / 15360MiB |      0%      Default |\n",
            "|                               |                      |                  N/A |\n",
            "+-------------------------------+----------------------+----------------------+\n",
            "                                                                               \n",
            "+-----------------------------------------------------------------------------+\n",
            "| Processes:                                                                  |\n",
            "|  GPU   GI   CI        PID   Type   Process name                  GPU Memory |\n",
            "|        ID   ID                                                   Usage      |\n",
            "|=============================================================================|\n",
            "|  No running processes found                                                 |\n",
            "+-----------------------------------------------------------------------------+\n"
          ]
        }
      ]
    },
    {
      "cell_type": "code",
      "execution_count": null,
      "metadata": {
        "id": "oMPC6AUSWxLB",
        "colab": {
          "base_uri": "https://localhost:8080/"
        },
        "outputId": "9e891e53-f6fd-48e0-fc55-803db565ab8f"
      },
      "outputs": [
        {
          "output_type": "stream",
          "name": "stdout",
          "text": [
            "Collecting transformers\n",
            "  Downloading transformers-4.34.1-py3-none-any.whl (7.7 MB)\n",
            "\u001b[2K     \u001b[90m━━━━━━━━━━━━━━━━━━━━━━━━━━━━━━━━━━━━━━━━\u001b[0m \u001b[32m7.7/7.7 MB\u001b[0m \u001b[31m95.6 MB/s\u001b[0m eta \u001b[36m0:00:00\u001b[0m\n",
            "\u001b[?25hCollecting sentencepiece\n",
            "  Downloading sentencepiece-0.1.99-cp310-cp310-manylinux_2_17_x86_64.manylinux2014_x86_64.whl (1.3 MB)\n",
            "\u001b[2K     \u001b[90m━━━━━━━━━━━━━━━━━━━━━━━━━━━━━━━━━━━━━━━━\u001b[0m \u001b[32m1.3/1.3 MB\u001b[0m \u001b[31m293.8 MB/s\u001b[0m eta \u001b[36m0:00:00\u001b[0m\n",
            "\u001b[?25hRequirement already satisfied: filelock in /usr/local/lib/python3.10/dist-packages (from transformers) (3.12.4)\n",
            "Collecting huggingface-hub<1.0,>=0.16.4 (from transformers)\n",
            "  Downloading huggingface_hub-0.18.0-py3-none-any.whl (301 kB)\n",
            "\u001b[2K     \u001b[90m━━━━━━━━━━━━━━━━━━━━━━━━━━━━━━━━━━━━━━━━\u001b[0m \u001b[32m302.0/302.0 kB\u001b[0m \u001b[31m356.5 MB/s\u001b[0m eta \u001b[36m0:00:00\u001b[0m\n",
            "\u001b[?25hRequirement already satisfied: numpy>=1.17 in /usr/local/lib/python3.10/dist-packages (from transformers) (1.23.5)\n",
            "Requirement already satisfied: packaging>=20.0 in /usr/local/lib/python3.10/dist-packages (from transformers) (23.2)\n",
            "Requirement already satisfied: pyyaml>=5.1 in /usr/local/lib/python3.10/dist-packages (from transformers) (6.0.1)\n",
            "Requirement already satisfied: regex!=2019.12.17 in /usr/local/lib/python3.10/dist-packages (from transformers) (2023.6.3)\n",
            "Requirement already satisfied: requests in /usr/local/lib/python3.10/dist-packages (from transformers) (2.31.0)\n",
            "Collecting tokenizers<0.15,>=0.14 (from transformers)\n",
            "  Downloading tokenizers-0.14.1-cp310-cp310-manylinux_2_17_x86_64.manylinux2014_x86_64.whl (3.8 MB)\n",
            "\u001b[2K     \u001b[90m━━━━━━━━━━━━━━━━━━━━━━━━━━━━━━━━━━━━━━━━\u001b[0m \u001b[32m3.8/3.8 MB\u001b[0m \u001b[31m302.2 MB/s\u001b[0m eta \u001b[36m0:00:00\u001b[0m\n",
            "\u001b[?25hCollecting safetensors>=0.3.1 (from transformers)\n",
            "  Downloading safetensors-0.4.0-cp310-cp310-manylinux_2_17_x86_64.manylinux2014_x86_64.whl (1.3 MB)\n",
            "\u001b[2K     \u001b[90m━━━━━━━━━━━━━━━━━━━━━━━━━━━━━━━━━━━━━━━━\u001b[0m \u001b[32m1.3/1.3 MB\u001b[0m \u001b[31m318.9 MB/s\u001b[0m eta \u001b[36m0:00:00\u001b[0m\n",
            "\u001b[?25hRequirement already satisfied: tqdm>=4.27 in /usr/local/lib/python3.10/dist-packages (from transformers) (4.66.1)\n",
            "Requirement already satisfied: fsspec>=2023.5.0 in /usr/local/lib/python3.10/dist-packages (from huggingface-hub<1.0,>=0.16.4->transformers) (2023.6.0)\n",
            "Requirement already satisfied: typing-extensions>=3.7.4.3 in /usr/local/lib/python3.10/dist-packages (from huggingface-hub<1.0,>=0.16.4->transformers) (4.5.0)\n",
            "Collecting huggingface-hub<1.0,>=0.16.4 (from transformers)\n",
            "  Downloading huggingface_hub-0.17.3-py3-none-any.whl (295 kB)\n",
            "\u001b[2K     \u001b[90m━━━━━━━━━━━━━━━━━━━━━━━━━━━━━━━━━━━━━━━━\u001b[0m \u001b[32m295.0/295.0 kB\u001b[0m \u001b[31m384.9 MB/s\u001b[0m eta \u001b[36m0:00:00\u001b[0m\n",
            "\u001b[?25hRequirement already satisfied: charset-normalizer<4,>=2 in /usr/local/lib/python3.10/dist-packages (from requests->transformers) (3.3.0)\n",
            "Requirement already satisfied: idna<4,>=2.5 in /usr/local/lib/python3.10/dist-packages (from requests->transformers) (3.4)\n",
            "Requirement already satisfied: urllib3<3,>=1.21.1 in /usr/local/lib/python3.10/dist-packages (from requests->transformers) (2.0.7)\n",
            "Requirement already satisfied: certifi>=2017.4.17 in /usr/local/lib/python3.10/dist-packages (from requests->transformers) (2023.7.22)\n",
            "Installing collected packages: sentencepiece, safetensors, huggingface-hub, tokenizers, transformers\n",
            "Successfully installed huggingface-hub-0.17.3 safetensors-0.4.0 sentencepiece-0.1.99 tokenizers-0.14.1 transformers-4.34.1\n"
          ]
        }
      ],
      "source": [
        "!pip install --no-cache-dir transformers sentencepiece"
      ]
    },
    {
      "cell_type": "code",
      "source": [
        "!pip3 install torch"
      ],
      "metadata": {
        "colab": {
          "base_uri": "https://localhost:8080/"
        },
        "id": "rlATcjK6BnWN",
        "outputId": "4bfa1f78-9a1f-4ec3-ec32-a59c637397da"
      },
      "execution_count": null,
      "outputs": [
        {
          "output_type": "stream",
          "name": "stdout",
          "text": [
            "Requirement already satisfied: torch in /usr/local/lib/python3.10/dist-packages (2.1.0+cu118)\n",
            "Requirement already satisfied: filelock in /usr/local/lib/python3.10/dist-packages (from torch) (3.12.4)\n",
            "Requirement already satisfied: typing-extensions in /usr/local/lib/python3.10/dist-packages (from torch) (4.5.0)\n",
            "Requirement already satisfied: sympy in /usr/local/lib/python3.10/dist-packages (from torch) (1.12)\n",
            "Requirement already satisfied: networkx in /usr/local/lib/python3.10/dist-packages (from torch) (3.1)\n",
            "Requirement already satisfied: jinja2 in /usr/local/lib/python3.10/dist-packages (from torch) (3.1.2)\n",
            "Requirement already satisfied: fsspec in /usr/local/lib/python3.10/dist-packages (from torch) (2023.6.0)\n",
            "Requirement already satisfied: triton==2.1.0 in /usr/local/lib/python3.10/dist-packages (from torch) (2.1.0)\n",
            "Requirement already satisfied: MarkupSafe>=2.0 in /usr/local/lib/python3.10/dist-packages (from jinja2->torch) (2.1.3)\n",
            "Requirement already satisfied: mpmath>=0.19 in /usr/local/lib/python3.10/dist-packages (from sympy->torch) (1.3.0)\n"
          ]
        }
      ]
    },
    {
      "cell_type": "code",
      "execution_count": null,
      "metadata": {
        "id": "6DBEuUoUWuje"
      },
      "outputs": [],
      "source": [
        "# import libraries\n",
        "import pandas as pd\n",
        "from wordcloud import WordCloud, STOPWORDS\n",
        "import matplotlib.pyplot as plt\n",
        "from sklearn.feature_extraction.text import CountVectorizer\n",
        "import spacy\n",
        "import torch"
      ]
    },
    {
      "cell_type": "markdown",
      "metadata": {
        "id": "Wp8e2Q_ZlX_6"
      },
      "source": [
        "# Our Data"
      ]
    },
    {
      "cell_type": "code",
      "execution_count": null,
      "metadata": {
        "id": "7dHdbujVla09"
      },
      "outputs": [],
      "source": [
        "url = \"https://raw.githubusercontent.com/glazar01/lyric-pulse-sentiment-analysis/main/data/SingleLabel.csv\"\n",
        "s_data = pd.read_csv(url)"
      ]
    },
    {
      "cell_type": "code",
      "execution_count": null,
      "metadata": {
        "colab": {
          "base_uri": "https://localhost:8080/",
          "height": 424
        },
        "id": "wp5-tiualdj3",
        "outputId": "ac75573f-8016-46a8-fde8-f4d132028ac1"
      },
      "outputs": [
        {
          "output_type": "execute_result",
          "data": {
            "text/plain": [
              "              artist    genre                  title                    album  \\\n",
              "0            Nirvana     Rock  You Know You’re Right                  Nirvana   \n",
              "1      Damian Marley   Reggae             Here We Go               Stony Hill   \n",
              "2     The Mission UK     Rock                   Jade  Another Fall from Grace   \n",
              "3               UB40   Reggae       Food For Thought              Signing Off   \n",
              "4        Johnny Cash  Country   I’ve Been Everywhere   American II: Unchained   \n",
              "...              ...      ...                    ...                      ...   \n",
              "1155     The Beatles     Rock              Yesterday                    Help!   \n",
              "1156     The Sundays     Rock                   Love                    Blind   \n",
              "1157        The Cure     Rock        Killing an Arab           Boys Don’t Cry   \n",
              "1158    Garth Brooks  Country                    Mom      Man Against Machine   \n",
              "1159    Alan Jackson  Country        The Older I Get                      NaN   \n",
              "\n",
              "        year                                             lyrics       label  \n",
              "0     2002.0  I will never bother you\\nI will never promise ...     Sadness  \n",
              "1     2017.0  Here we go\\nMy big ego is gonna get me in trou...     Tension  \n",
              "2     2016.0  She came as Lolita dressed as Venus\\nAnd adorn...  Tenderness  \n",
              "3     1980.0  Ivory Madonna, dying in the dust\\nWaiting for ...     Sadness  \n",
              "4     1996.0  I was totin' my pack along the dusty Winnemucc...     Sadness  \n",
              "...      ...                                                ...         ...  \n",
              "1155  1965.0  Yesterday\\nAll my troubles seemed so far away\\...     Sadness  \n",
              "1156  1992.0  Picture myself as a thin white child\\nBack to ...  Tenderness  \n",
              "1157  1978.0  Standing on the beach\\nWith a gun in my hand\\n...     Tension  \n",
              "1158  2014.0  A little baby told God\\nHey I'm kinda scared, ...  Tenderness  \n",
              "1159  2017.0  The older I get\\nThe more I think\\nYou only ge...     Sadness  \n",
              "\n",
              "[1160 rows x 7 columns]"
            ],
            "text/html": [
              "\n",
              "  <div id=\"df-831b1f47-d63d-4c4c-b387-3d93719af740\" class=\"colab-df-container\">\n",
              "    <div>\n",
              "<style scoped>\n",
              "    .dataframe tbody tr th:only-of-type {\n",
              "        vertical-align: middle;\n",
              "    }\n",
              "\n",
              "    .dataframe tbody tr th {\n",
              "        vertical-align: top;\n",
              "    }\n",
              "\n",
              "    .dataframe thead th {\n",
              "        text-align: right;\n",
              "    }\n",
              "</style>\n",
              "<table border=\"1\" class=\"dataframe\">\n",
              "  <thead>\n",
              "    <tr style=\"text-align: right;\">\n",
              "      <th></th>\n",
              "      <th>artist</th>\n",
              "      <th>genre</th>\n",
              "      <th>title</th>\n",
              "      <th>album</th>\n",
              "      <th>year</th>\n",
              "      <th>lyrics</th>\n",
              "      <th>label</th>\n",
              "    </tr>\n",
              "  </thead>\n",
              "  <tbody>\n",
              "    <tr>\n",
              "      <th>0</th>\n",
              "      <td>Nirvana</td>\n",
              "      <td>Rock</td>\n",
              "      <td>You Know You’re Right</td>\n",
              "      <td>Nirvana</td>\n",
              "      <td>2002.0</td>\n",
              "      <td>I will never bother you\\nI will never promise ...</td>\n",
              "      <td>Sadness</td>\n",
              "    </tr>\n",
              "    <tr>\n",
              "      <th>1</th>\n",
              "      <td>Damian Marley</td>\n",
              "      <td>Reggae</td>\n",
              "      <td>Here We Go</td>\n",
              "      <td>Stony Hill</td>\n",
              "      <td>2017.0</td>\n",
              "      <td>Here we go\\nMy big ego is gonna get me in trou...</td>\n",
              "      <td>Tension</td>\n",
              "    </tr>\n",
              "    <tr>\n",
              "      <th>2</th>\n",
              "      <td>The Mission UK</td>\n",
              "      <td>Rock</td>\n",
              "      <td>Jade</td>\n",
              "      <td>Another Fall from Grace</td>\n",
              "      <td>2016.0</td>\n",
              "      <td>She came as Lolita dressed as Venus\\nAnd adorn...</td>\n",
              "      <td>Tenderness</td>\n",
              "    </tr>\n",
              "    <tr>\n",
              "      <th>3</th>\n",
              "      <td>UB40</td>\n",
              "      <td>Reggae</td>\n",
              "      <td>Food For Thought</td>\n",
              "      <td>Signing Off</td>\n",
              "      <td>1980.0</td>\n",
              "      <td>Ivory Madonna, dying in the dust\\nWaiting for ...</td>\n",
              "      <td>Sadness</td>\n",
              "    </tr>\n",
              "    <tr>\n",
              "      <th>4</th>\n",
              "      <td>Johnny Cash</td>\n",
              "      <td>Country</td>\n",
              "      <td>I’ve Been Everywhere</td>\n",
              "      <td>American II: Unchained</td>\n",
              "      <td>1996.0</td>\n",
              "      <td>I was totin' my pack along the dusty Winnemucc...</td>\n",
              "      <td>Sadness</td>\n",
              "    </tr>\n",
              "    <tr>\n",
              "      <th>...</th>\n",
              "      <td>...</td>\n",
              "      <td>...</td>\n",
              "      <td>...</td>\n",
              "      <td>...</td>\n",
              "      <td>...</td>\n",
              "      <td>...</td>\n",
              "      <td>...</td>\n",
              "    </tr>\n",
              "    <tr>\n",
              "      <th>1155</th>\n",
              "      <td>The Beatles</td>\n",
              "      <td>Rock</td>\n",
              "      <td>Yesterday</td>\n",
              "      <td>Help!</td>\n",
              "      <td>1965.0</td>\n",
              "      <td>Yesterday\\nAll my troubles seemed so far away\\...</td>\n",
              "      <td>Sadness</td>\n",
              "    </tr>\n",
              "    <tr>\n",
              "      <th>1156</th>\n",
              "      <td>The Sundays</td>\n",
              "      <td>Rock</td>\n",
              "      <td>Love</td>\n",
              "      <td>Blind</td>\n",
              "      <td>1992.0</td>\n",
              "      <td>Picture myself as a thin white child\\nBack to ...</td>\n",
              "      <td>Tenderness</td>\n",
              "    </tr>\n",
              "    <tr>\n",
              "      <th>1157</th>\n",
              "      <td>The Cure</td>\n",
              "      <td>Rock</td>\n",
              "      <td>Killing an Arab</td>\n",
              "      <td>Boys Don’t Cry</td>\n",
              "      <td>1978.0</td>\n",
              "      <td>Standing on the beach\\nWith a gun in my hand\\n...</td>\n",
              "      <td>Tension</td>\n",
              "    </tr>\n",
              "    <tr>\n",
              "      <th>1158</th>\n",
              "      <td>Garth Brooks</td>\n",
              "      <td>Country</td>\n",
              "      <td>Mom</td>\n",
              "      <td>Man Against Machine</td>\n",
              "      <td>2014.0</td>\n",
              "      <td>A little baby told God\\nHey I'm kinda scared, ...</td>\n",
              "      <td>Tenderness</td>\n",
              "    </tr>\n",
              "    <tr>\n",
              "      <th>1159</th>\n",
              "      <td>Alan Jackson</td>\n",
              "      <td>Country</td>\n",
              "      <td>The Older I Get</td>\n",
              "      <td>NaN</td>\n",
              "      <td>2017.0</td>\n",
              "      <td>The older I get\\nThe more I think\\nYou only ge...</td>\n",
              "      <td>Sadness</td>\n",
              "    </tr>\n",
              "  </tbody>\n",
              "</table>\n",
              "<p>1160 rows × 7 columns</p>\n",
              "</div>\n",
              "    <div class=\"colab-df-buttons\">\n",
              "\n",
              "  <div class=\"colab-df-container\">\n",
              "    <button class=\"colab-df-convert\" onclick=\"convertToInteractive('df-831b1f47-d63d-4c4c-b387-3d93719af740')\"\n",
              "            title=\"Convert this dataframe to an interactive table.\"\n",
              "            style=\"display:none;\">\n",
              "\n",
              "  <svg xmlns=\"http://www.w3.org/2000/svg\" height=\"24px\" viewBox=\"0 -960 960 960\">\n",
              "    <path d=\"M120-120v-720h720v720H120Zm60-500h600v-160H180v160Zm220 220h160v-160H400v160Zm0 220h160v-160H400v160ZM180-400h160v-160H180v160Zm440 0h160v-160H620v160ZM180-180h160v-160H180v160Zm440 0h160v-160H620v160Z\"/>\n",
              "  </svg>\n",
              "    </button>\n",
              "\n",
              "  <style>\n",
              "    .colab-df-container {\n",
              "      display:flex;\n",
              "      gap: 12px;\n",
              "    }\n",
              "\n",
              "    .colab-df-convert {\n",
              "      background-color: #E8F0FE;\n",
              "      border: none;\n",
              "      border-radius: 50%;\n",
              "      cursor: pointer;\n",
              "      display: none;\n",
              "      fill: #1967D2;\n",
              "      height: 32px;\n",
              "      padding: 0 0 0 0;\n",
              "      width: 32px;\n",
              "    }\n",
              "\n",
              "    .colab-df-convert:hover {\n",
              "      background-color: #E2EBFA;\n",
              "      box-shadow: 0px 1px 2px rgba(60, 64, 67, 0.3), 0px 1px 3px 1px rgba(60, 64, 67, 0.15);\n",
              "      fill: #174EA6;\n",
              "    }\n",
              "\n",
              "    .colab-df-buttons div {\n",
              "      margin-bottom: 4px;\n",
              "    }\n",
              "\n",
              "    [theme=dark] .colab-df-convert {\n",
              "      background-color: #3B4455;\n",
              "      fill: #D2E3FC;\n",
              "    }\n",
              "\n",
              "    [theme=dark] .colab-df-convert:hover {\n",
              "      background-color: #434B5C;\n",
              "      box-shadow: 0px 1px 3px 1px rgba(0, 0, 0, 0.15);\n",
              "      filter: drop-shadow(0px 1px 2px rgba(0, 0, 0, 0.3));\n",
              "      fill: #FFFFFF;\n",
              "    }\n",
              "  </style>\n",
              "\n",
              "    <script>\n",
              "      const buttonEl =\n",
              "        document.querySelector('#df-831b1f47-d63d-4c4c-b387-3d93719af740 button.colab-df-convert');\n",
              "      buttonEl.style.display =\n",
              "        google.colab.kernel.accessAllowed ? 'block' : 'none';\n",
              "\n",
              "      async function convertToInteractive(key) {\n",
              "        const element = document.querySelector('#df-831b1f47-d63d-4c4c-b387-3d93719af740');\n",
              "        const dataTable =\n",
              "          await google.colab.kernel.invokeFunction('convertToInteractive',\n",
              "                                                    [key], {});\n",
              "        if (!dataTable) return;\n",
              "\n",
              "        const docLinkHtml = 'Like what you see? Visit the ' +\n",
              "          '<a target=\"_blank\" href=https://colab.research.google.com/notebooks/data_table.ipynb>data table notebook</a>'\n",
              "          + ' to learn more about interactive tables.';\n",
              "        element.innerHTML = '';\n",
              "        dataTable['output_type'] = 'display_data';\n",
              "        await google.colab.output.renderOutput(dataTable, element);\n",
              "        const docLink = document.createElement('div');\n",
              "        docLink.innerHTML = docLinkHtml;\n",
              "        element.appendChild(docLink);\n",
              "      }\n",
              "    </script>\n",
              "  </div>\n",
              "\n",
              "\n",
              "<div id=\"df-740d0a56-f6aa-4ed6-8800-6ecff6f66c2f\">\n",
              "  <button class=\"colab-df-quickchart\" onclick=\"quickchart('df-740d0a56-f6aa-4ed6-8800-6ecff6f66c2f')\"\n",
              "            title=\"Suggest charts.\"\n",
              "            style=\"display:none;\">\n",
              "\n",
              "<svg xmlns=\"http://www.w3.org/2000/svg\" height=\"24px\"viewBox=\"0 0 24 24\"\n",
              "     width=\"24px\">\n",
              "    <g>\n",
              "        <path d=\"M19 3H5c-1.1 0-2 .9-2 2v14c0 1.1.9 2 2 2h14c1.1 0 2-.9 2-2V5c0-1.1-.9-2-2-2zM9 17H7v-7h2v7zm4 0h-2V7h2v10zm4 0h-2v-4h2v4z\"/>\n",
              "    </g>\n",
              "</svg>\n",
              "  </button>\n",
              "\n",
              "<style>\n",
              "  .colab-df-quickchart {\n",
              "      --bg-color: #E8F0FE;\n",
              "      --fill-color: #1967D2;\n",
              "      --hover-bg-color: #E2EBFA;\n",
              "      --hover-fill-color: #174EA6;\n",
              "      --disabled-fill-color: #AAA;\n",
              "      --disabled-bg-color: #DDD;\n",
              "  }\n",
              "\n",
              "  [theme=dark] .colab-df-quickchart {\n",
              "      --bg-color: #3B4455;\n",
              "      --fill-color: #D2E3FC;\n",
              "      --hover-bg-color: #434B5C;\n",
              "      --hover-fill-color: #FFFFFF;\n",
              "      --disabled-bg-color: #3B4455;\n",
              "      --disabled-fill-color: #666;\n",
              "  }\n",
              "\n",
              "  .colab-df-quickchart {\n",
              "    background-color: var(--bg-color);\n",
              "    border: none;\n",
              "    border-radius: 50%;\n",
              "    cursor: pointer;\n",
              "    display: none;\n",
              "    fill: var(--fill-color);\n",
              "    height: 32px;\n",
              "    padding: 0;\n",
              "    width: 32px;\n",
              "  }\n",
              "\n",
              "  .colab-df-quickchart:hover {\n",
              "    background-color: var(--hover-bg-color);\n",
              "    box-shadow: 0 1px 2px rgba(60, 64, 67, 0.3), 0 1px 3px 1px rgba(60, 64, 67, 0.15);\n",
              "    fill: var(--button-hover-fill-color);\n",
              "  }\n",
              "\n",
              "  .colab-df-quickchart-complete:disabled,\n",
              "  .colab-df-quickchart-complete:disabled:hover {\n",
              "    background-color: var(--disabled-bg-color);\n",
              "    fill: var(--disabled-fill-color);\n",
              "    box-shadow: none;\n",
              "  }\n",
              "\n",
              "  .colab-df-spinner {\n",
              "    border: 2px solid var(--fill-color);\n",
              "    border-color: transparent;\n",
              "    border-bottom-color: var(--fill-color);\n",
              "    animation:\n",
              "      spin 1s steps(1) infinite;\n",
              "  }\n",
              "\n",
              "  @keyframes spin {\n",
              "    0% {\n",
              "      border-color: transparent;\n",
              "      border-bottom-color: var(--fill-color);\n",
              "      border-left-color: var(--fill-color);\n",
              "    }\n",
              "    20% {\n",
              "      border-color: transparent;\n",
              "      border-left-color: var(--fill-color);\n",
              "      border-top-color: var(--fill-color);\n",
              "    }\n",
              "    30% {\n",
              "      border-color: transparent;\n",
              "      border-left-color: var(--fill-color);\n",
              "      border-top-color: var(--fill-color);\n",
              "      border-right-color: var(--fill-color);\n",
              "    }\n",
              "    40% {\n",
              "      border-color: transparent;\n",
              "      border-right-color: var(--fill-color);\n",
              "      border-top-color: var(--fill-color);\n",
              "    }\n",
              "    60% {\n",
              "      border-color: transparent;\n",
              "      border-right-color: var(--fill-color);\n",
              "    }\n",
              "    80% {\n",
              "      border-color: transparent;\n",
              "      border-right-color: var(--fill-color);\n",
              "      border-bottom-color: var(--fill-color);\n",
              "    }\n",
              "    90% {\n",
              "      border-color: transparent;\n",
              "      border-bottom-color: var(--fill-color);\n",
              "    }\n",
              "  }\n",
              "</style>\n",
              "\n",
              "  <script>\n",
              "    async function quickchart(key) {\n",
              "      const quickchartButtonEl =\n",
              "        document.querySelector('#' + key + ' button');\n",
              "      quickchartButtonEl.disabled = true;  // To prevent multiple clicks.\n",
              "      quickchartButtonEl.classList.add('colab-df-spinner');\n",
              "      try {\n",
              "        const charts = await google.colab.kernel.invokeFunction(\n",
              "            'suggestCharts', [key], {});\n",
              "      } catch (error) {\n",
              "        console.error('Error during call to suggestCharts:', error);\n",
              "      }\n",
              "      quickchartButtonEl.classList.remove('colab-df-spinner');\n",
              "      quickchartButtonEl.classList.add('colab-df-quickchart-complete');\n",
              "    }\n",
              "    (() => {\n",
              "      let quickchartButtonEl =\n",
              "        document.querySelector('#df-740d0a56-f6aa-4ed6-8800-6ecff6f66c2f button');\n",
              "      quickchartButtonEl.style.display =\n",
              "        google.colab.kernel.accessAllowed ? 'block' : 'none';\n",
              "    })();\n",
              "  </script>\n",
              "</div>\n",
              "    </div>\n",
              "  </div>\n"
            ]
          },
          "metadata": {},
          "execution_count": 6
        }
      ],
      "source": [
        "s_data"
      ]
    },
    {
      "cell_type": "code",
      "execution_count": null,
      "metadata": {
        "colab": {
          "base_uri": "https://localhost:8080/"
        },
        "id": "vgJnQsDXBOR9",
        "outputId": "de95a52d-9169-4554-d4ea-f62289a8197c"
      },
      "outputs": [
        {
          "output_type": "execute_result",
          "data": {
            "text/plain": [
              "array(['Sadness', 'Tension', 'Tenderness'], dtype=object)"
            ]
          },
          "metadata": {},
          "execution_count": 7
        }
      ],
      "source": [
        "s_data['label'].unique()"
      ]
    },
    {
      "cell_type": "markdown",
      "metadata": {
        "id": "oEwiiOZlkDm_"
      },
      "source": [
        "# Model 2: roberta-base-go_emotions"
      ]
    },
    {
      "cell_type": "markdown",
      "metadata": {
        "id": "y92B9V0HkTHN"
      },
      "source": [
        "## link\n",
        "https://huggingface.co/SamLowe/roberta-base-go_emotions?text=I+love+you\n",
        "\n",
        "## description:\n",
        "Model trained from roberta-base on the go_emotions dataset for multi-label classification.\n",
        "\n",
        "## emotion categories\n",
        "love,\n",
        "admiration,\n",
        "approval,\n",
        "neutral,\n",
        "joy,\n",
        "optimism,\n",
        "gratitude,\n",
        "desire,\n",
        "annoyance,\n",
        "caring,\n",
        "disapproval,\n",
        "anger,\n",
        "realization,\n",
        "sadness,\n",
        "excitement,\n",
        "disappointment,\n",
        "amusement,\n",
        "confusion,\n",
        "disgust,\n",
        "curiosity,\n",
        "surprise,\n",
        "remorse,\n",
        "fear,\n",
        "nervousness,\n",
        "embarrassment,\n",
        "grief,\n",
        "pride,\n",
        "and relief\n",
        "\n",
        "## Note\n",
        "neutral emotion --> ignore"
      ]
    },
    {
      "cell_type": "code",
      "execution_count": null,
      "metadata": {
        "colab": {
          "base_uri": "https://localhost:8080/",
          "height": 49,
          "referenced_widgets": [
            "a3f6bd72971448f7b3de89c11bfadd27",
            "7955061fb12744d4bba61404f990fa15",
            "21907db803eb4bc48e0206ad71bcfd7d",
            "7803185786fa4ba1b846c32e76997bdc",
            "a39e9246ae6041d8800ac2567ffc9582",
            "8e945d6beb894c87ac344c9bd26b495a",
            "9c942ad8004a415f9023ef6cbff473a2",
            "fededdeeb5654899b9b3692f9b27373b",
            "40a5721438f944ff98fdda987d8a71d6",
            "0b916f5a09f044f99817b307680c80f9",
            "6bbb495a93c64f94ad99bfc9490134fe"
          ]
        },
        "id": "HYuS0pCPkBHE",
        "outputId": "747ab7e3-4f9a-44fd-d1f4-fb8915d21244"
      },
      "outputs": [
        {
          "output_type": "display_data",
          "data": {
            "text/plain": [
              "Downloading (…)cial_tokens_map.json:   0%|          | 0.00/280 [00:00<?, ?B/s]"
            ],
            "application/vnd.jupyter.widget-view+json": {
              "version_major": 2,
              "version_minor": 0,
              "model_id": "a3f6bd72971448f7b3de89c11bfadd27"
            }
          },
          "metadata": {}
        }
      ],
      "source": [
        "from transformers import pipeline\n",
        "\n",
        "classifier_2 = pipeline(task=\"text-classification\", model=\"SamLowe/roberta-base-go_emotions\", top_k=None)"
      ]
    },
    {
      "cell_type": "code",
      "execution_count": null,
      "metadata": {
        "id": "328T8OREpVpY"
      },
      "outputs": [],
      "source": [
        "prediction_0 = classifier_2(s_data['lyrics'][0],)"
      ]
    },
    {
      "cell_type": "code",
      "execution_count": null,
      "metadata": {
        "colab": {
          "base_uri": "https://localhost:8080/"
        },
        "id": "vPQoaUEophkw",
        "outputId": "a41dd552-eccb-4dd2-91db-f60c6999fb76"
      },
      "outputs": [
        {
          "output_type": "execute_result",
          "data": {
            "text/plain": [
              "[[{'label': 'approval', 'score': 0.5469817519187927},\n",
              "  {'label': 'neutral', 'score': 0.3794184625148773},\n",
              "  {'label': 'realization', 'score': 0.041055724024772644},\n",
              "  {'label': 'annoyance', 'score': 0.038775648921728134},\n",
              "  {'label': 'anger', 'score': 0.011280348524451256},\n",
              "  {'label': 'disapproval', 'score': 0.009933975525200367},\n",
              "  {'label': 'admiration', 'score': 0.009317510761320591},\n",
              "  {'label': 'caring', 'score': 0.008861214853823185},\n",
              "  {'label': 'optimism', 'score': 0.008721102960407734},\n",
              "  {'label': 'love', 'score': 0.008435306139290333},\n",
              "  {'label': 'fear', 'score': 0.007663618307560682},\n",
              "  {'label': 'excitement', 'score': 0.007383408024907112},\n",
              "  {'label': 'joy', 'score': 0.0065092723816633224},\n",
              "  {'label': 'disappointment', 'score': 0.00560944015160203},\n",
              "  {'label': 'sadness', 'score': 0.003584089921787381},\n",
              "  {'label': 'relief', 'score': 0.0033677390310913324},\n",
              "  {'label': 'surprise', 'score': 0.0031086772214621305},\n",
              "  {'label': 'pride', 'score': 0.002746876096352935},\n",
              "  {'label': 'disgust', 'score': 0.002320718951523304},\n",
              "  {'label': 'nervousness', 'score': 0.002042305190116167},\n",
              "  {'label': 'desire', 'score': 0.0018275107722729445},\n",
              "  {'label': 'amusement', 'score': 0.0014127452159300447},\n",
              "  {'label': 'confusion', 'score': 0.0011918599484488368},\n",
              "  {'label': 'embarrassment', 'score': 0.001160418032668531},\n",
              "  {'label': 'curiosity', 'score': 0.0008469917229376733},\n",
              "  {'label': 'grief', 'score': 0.000726899947039783},\n",
              "  {'label': 'remorse', 'score': 0.00027732757735066116},\n",
              "  {'label': 'gratitude', 'score': 0.00013007175584789366}]]"
            ]
          },
          "metadata": {},
          "execution_count": 11
        }
      ],
      "source": [
        "prediction_0"
      ]
    },
    {
      "cell_type": "code",
      "source": [
        "BATCH_SIZE = 32  # can be adjusted\n",
        "classifier_2_emotions = ['love', 'admiration', 'approval', 'neutral', 'joy', 'optimism', 'gratitude', 'desire', 'annoyance', 'caring', 'disapproval', 'anger', 'realization', 'sadness', 'excitement', 'disappointment', 'amusement', 'confusion', 'disgust', 'curiosity', 'surprise', 'remorse', 'fear', 'nervousness', 'embarrassment', 'grief', 'pride', 'relief']"
      ],
      "metadata": {
        "id": "dFIMqAOa3YOc"
      },
      "execution_count": null,
      "outputs": []
    },
    {
      "cell_type": "code",
      "execution_count": null,
      "metadata": {
        "id": "4Am7rkUxCX8p"
      },
      "outputs": [],
      "source": [
        "# Define a function to get sentiment scores for a lyric split by paragraphs\n",
        "def get_sentiment_scores_by_sentences(lyric, classifier, classifier_emotions):\n",
        "    aggregated_scores = dict.fromkeys(classifier_emotions, 0)\n",
        "    sentences = [p for p in lyric.split('\\n') if p]  # Split by sentences and remove empty ones\n",
        "\n",
        "    # Process sentences in batches\n",
        "    for i in range(0, len(sentences), BATCH_SIZE):\n",
        "        batch = sentences[i:i+BATCH_SIZE]\n",
        "        results_batch = classifier(batch)\n",
        "\n",
        "        for result in results_batch:\n",
        "          for res in result:\n",
        "            label = res['label']\n",
        "            score = res['score']\n",
        "            aggregated_scores[label] += score\n",
        "\n",
        "    # Average the scores\n",
        "    num_sentences = len(sentences)\n",
        "    for label in aggregated_scores:\n",
        "        aggregated_scores[label] /= num_sentences\n",
        "\n",
        "    return aggregated_scores"
      ]
    },
    {
      "cell_type": "code",
      "source": [
        "s_data['lyrics'][0]"
      ],
      "metadata": {
        "colab": {
          "base_uri": "https://localhost:8080/",
          "height": 143
        },
        "id": "-g9eZEUK5sKR",
        "outputId": "eabe9560-601f-4d0c-c534-2a88101dd78a"
      },
      "execution_count": null,
      "outputs": [
        {
          "output_type": "execute_result",
          "data": {
            "text/plain": [
              "\"I will never bother you\\nI will never promise to\\nI will never follow you\\nI will never bother you\\nNever speak a word again\\nI will crawl away for good\\nI will move away from here\\nYou won't be afraid of fear\\nNo thought was put into this\\nAnd always knew it would come to this\\nThings have never been so swell\\nI have never failed to fail\\n\\nHe-eee-eee-eeey\\nHe-eee-eee-eey\\nHe-eee-eee-ey\\nYou know you're right\\nYou know you're right\\nYou know you're right\\n\\nI'm so warm and calm inside\\nI no longer have to hide\\nLet's talk about someone else\\nSteaming soup against her mouth\\nNothing really bothers her\\nShe just wants to love himself\\nI will move away from here\\nYou won't be afraid of fear\\nNo thought was put into this\\nAlways knew it'd come to this\\nThings have never been so swell\\nI have never failed to fail\\n\\nHe-eee-eee-eey\\nHe-eee-eee-eey\\nHe-eee-eee-eey\\nHe-eee-eee-eey\\nHe-eee-eee-eey\\nYou know you're right\\nYou know you're right\\nYou know you're right\\nYou know you're right\\nYou know you're right\\nYou know you're right\\nYou know you're right\\nYou know you're right\\nYou know you're right\\nYou know you're right\\nYou know you're right\\nYou know you're right\\nYou know you're right\\nYou know you're right\\n(He-eee-eee-eey)\\nYou know your rights\\n(He-eee-eee-eey)\\nYou know your rights\\n(He-eee-eee-eey)\\nYou know your rights\\n(He-eee-eee-eey)\""
            ],
            "application/vnd.google.colaboratory.intrinsic+json": {
              "type": "string"
            }
          },
          "metadata": {},
          "execution_count": 16
        }
      ]
    },
    {
      "cell_type": "code",
      "source": [
        "test_scores = get_sentiment_scores_by_sentences(s_data['lyrics'][0], classifier_2, classifier_2_emotions)\n",
        "test_scores"
      ],
      "metadata": {
        "colab": {
          "base_uri": "https://localhost:8080/"
        },
        "id": "bWSnQ4H-4y-l",
        "outputId": "e89a4552-7af3-4e09-92a9-b3ff59ca193f"
      },
      "execution_count": null,
      "outputs": [
        {
          "output_type": "execute_result",
          "data": {
            "text/plain": [
              "{'love': 0.005618573802556577,\n",
              " 'admiration': 0.016255582683827794,\n",
              " 'approval': 0.2951901754297848,\n",
              " 'neutral': 0.49983865435102154,\n",
              " 'joy': 0.02178501213347772,\n",
              " 'optimism': 0.018005748535090658,\n",
              " 'gratitude': 0.001899949149706767,\n",
              " 'desire': 0.006160047042482931,\n",
              " 'annoyance': 0.01616458921177712,\n",
              " 'caring': 0.03422015180798813,\n",
              " 'disapproval': 0.02987908959039487,\n",
              " 'anger': 0.005264540248650259,\n",
              " 'realization': 0.02873891221991341,\n",
              " 'sadness': 0.005650710193939241,\n",
              " 'excitement': 0.012267714049292928,\n",
              " 'disappointment': 0.008587232980062254,\n",
              " 'amusement': 0.005121259001108618,\n",
              " 'confusion': 0.002866807678531456,\n",
              " 'disgust': 0.002186486176339843,\n",
              " 'curiosity': 0.00367699379109711,\n",
              " 'surprise': 0.010295141956053808,\n",
              " 'remorse': 0.0007191395686407175,\n",
              " 'fear': 0.004003653747661572,\n",
              " 'nervousness': 0.001258075787908248,\n",
              " 'embarrassment': 0.0013306000801094342,\n",
              " 'grief': 0.000705578154988221,\n",
              " 'pride': 0.0016000467728320342,\n",
              " 'relief': 0.003693041160918905}"
            ]
          },
          "metadata": {},
          "execution_count": 23
        }
      ]
    },
    {
      "cell_type": "code",
      "source": [
        "max(test_scores, key= lambda x: test_scores[x])"
      ],
      "metadata": {
        "colab": {
          "base_uri": "https://localhost:8080/",
          "height": 35
        },
        "id": "_1zxGE9R50-a",
        "outputId": "a1c9b7f3-9cc5-4560-927a-19aa4cde4935"
      },
      "execution_count": null,
      "outputs": [
        {
          "output_type": "execute_result",
          "data": {
            "text/plain": [
              "'neutral'"
            ],
            "application/vnd.google.colaboratory.intrinsic+json": {
              "type": "string"
            }
          },
          "metadata": {},
          "execution_count": 24
        }
      ]
    },
    {
      "cell_type": "code",
      "execution_count": null,
      "metadata": {
        "id": "MvufKI2UC1jk"
      },
      "outputs": [],
      "source": [
        "# Process the dataset\n",
        "sentiment_scores = [get_sentiment_scores_by_sentences(lyric, classifier_2, classifier_2_emotions) for lyric in s_data['lyrics']]"
      ]
    },
    {
      "cell_type": "code",
      "source": [
        "def find_max_key(sentiment_scores, ignore_key='neutral'):\n",
        "    second_max_keys = []\n",
        "    for lyric_sentiment_scores in sentiment_scores:\n",
        "        sorted_keys = sorted(lyric_sentiment_scores, key=lambda x: lyric_sentiment_scores[x], reverse=True)\n",
        "        if sorted_keys[0] == ignore_key:\n",
        "            # If the first key is 'Ignore,' we consider the second key\n",
        "            second_max_keys.append(sorted_keys[1])\n",
        "        else:\n",
        "            second_max_keys.append(sorted_keys[0])\n",
        "    return second_max_keys"
      ],
      "metadata": {
        "id": "6sg3twgX45rp"
      },
      "execution_count": null,
      "outputs": []
    },
    {
      "cell_type": "code",
      "source": [
        "dominant_sentiments = find_max_key(sentiment_scores, ignore_key='neutral')\n",
        "dominant_sentiments[0]"
      ],
      "metadata": {
        "id": "hZIC4j5443Zg",
        "outputId": "fef0afb8-af8e-468e-83a8-b658d1289312",
        "colab": {
          "base_uri": "https://localhost:8080/",
          "height": 35
        }
      },
      "execution_count": null,
      "outputs": [
        {
          "output_type": "execute_result",
          "data": {
            "text/plain": [
              "'approval'"
            ],
            "application/vnd.google.colaboratory.intrinsic+json": {
              "type": "string"
            }
          },
          "metadata": {},
          "execution_count": 27
        }
      ]
    },
    {
      "cell_type": "code",
      "source": [
        "# Add results to the DataFrame\n",
        "s_data['sentiment_scores'] = sentiment_scores\n",
        "s_data['dominant_sentiment'] = dominant_sentiments"
      ],
      "metadata": {
        "id": "iCN8IMQx46Bn"
      },
      "execution_count": null,
      "outputs": []
    },
    {
      "cell_type": "code",
      "execution_count": null,
      "metadata": {
        "colab": {
          "base_uri": "https://localhost:8080/",
          "height": 597
        },
        "id": "JMRk4srdgpIC",
        "outputId": "3361d275-db5c-4edc-d43a-2a1abf4b5367"
      },
      "outputs": [
        {
          "output_type": "execute_result",
          "data": {
            "text/plain": [
              "              artist    genre                  title                    album  \\\n",
              "0            Nirvana     Rock  You Know You’re Right                  Nirvana   \n",
              "1      Damian Marley   Reggae             Here We Go               Stony Hill   \n",
              "2     The Mission UK     Rock                   Jade  Another Fall from Grace   \n",
              "3               UB40   Reggae       Food For Thought              Signing Off   \n",
              "4        Johnny Cash  Country   I’ve Been Everywhere   American II: Unchained   \n",
              "...              ...      ...                    ...                      ...   \n",
              "1155     The Beatles     Rock              Yesterday                    Help!   \n",
              "1156     The Sundays     Rock                   Love                    Blind   \n",
              "1157        The Cure     Rock        Killing an Arab           Boys Don’t Cry   \n",
              "1158    Garth Brooks  Country                    Mom      Man Against Machine   \n",
              "1159    Alan Jackson  Country        The Older I Get                      NaN   \n",
              "\n",
              "        year                                             lyrics       label  \\\n",
              "0     2002.0  I will never bother you\\nI will never promise ...     Sadness   \n",
              "1     2017.0  Here we go\\nMy big ego is gonna get me in trou...     Tension   \n",
              "2     2016.0  She came as Lolita dressed as Venus\\nAnd adorn...  Tenderness   \n",
              "3     1980.0  Ivory Madonna, dying in the dust\\nWaiting for ...     Sadness   \n",
              "4     1996.0  I was totin' my pack along the dusty Winnemucc...     Sadness   \n",
              "...      ...                                                ...         ...   \n",
              "1155  1965.0  Yesterday\\nAll my troubles seemed so far away\\...     Sadness   \n",
              "1156  1992.0  Picture myself as a thin white child\\nBack to ...  Tenderness   \n",
              "1157  1978.0  Standing on the beach\\nWith a gun in my hand\\n...     Tension   \n",
              "1158  2014.0  A little baby told God\\nHey I'm kinda scared, ...  Tenderness   \n",
              "1159  2017.0  The older I get\\nThe more I think\\nYou only ge...     Sadness   \n",
              "\n",
              "                                       sentiment_scores dominant_sentiment  \n",
              "0     {'love': 0.005618573802556577, 'admiration': 0...           approval  \n",
              "1     {'love': 0.01285578431432239, 'admiration': 0....           approval  \n",
              "2     {'love': 0.0018713928373936721, 'admiration': ...           approval  \n",
              "3     {'love': 0.0025377574088957366, 'admiration': ...                joy  \n",
              "4     {'love': 0.0017250513984272103, 'admiration': ...           approval  \n",
              "...                                                 ...                ...  \n",
              "1155  {'love': 0.054357345111687515, 'admiration': 0...           approval  \n",
              "1156  {'love': 0.1810824905350691, 'admiration': 0.0...               love  \n",
              "1157  {'love': 0.0010456896499298246, 'admiration': ...            sadness  \n",
              "1158  {'love': 0.08135220795278049, 'admiration': 0....         admiration  \n",
              "1159  {'love': 0.030052815688329494, 'admiration': 0...           approval  \n",
              "\n",
              "[1160 rows x 9 columns]"
            ],
            "text/html": [
              "\n",
              "  <div id=\"df-91b5efca-0eed-46a9-9f6e-dd70658dc158\" class=\"colab-df-container\">\n",
              "    <div>\n",
              "<style scoped>\n",
              "    .dataframe tbody tr th:only-of-type {\n",
              "        vertical-align: middle;\n",
              "    }\n",
              "\n",
              "    .dataframe tbody tr th {\n",
              "        vertical-align: top;\n",
              "    }\n",
              "\n",
              "    .dataframe thead th {\n",
              "        text-align: right;\n",
              "    }\n",
              "</style>\n",
              "<table border=\"1\" class=\"dataframe\">\n",
              "  <thead>\n",
              "    <tr style=\"text-align: right;\">\n",
              "      <th></th>\n",
              "      <th>artist</th>\n",
              "      <th>genre</th>\n",
              "      <th>title</th>\n",
              "      <th>album</th>\n",
              "      <th>year</th>\n",
              "      <th>lyrics</th>\n",
              "      <th>label</th>\n",
              "      <th>sentiment_scores</th>\n",
              "      <th>dominant_sentiment</th>\n",
              "    </tr>\n",
              "  </thead>\n",
              "  <tbody>\n",
              "    <tr>\n",
              "      <th>0</th>\n",
              "      <td>Nirvana</td>\n",
              "      <td>Rock</td>\n",
              "      <td>You Know You’re Right</td>\n",
              "      <td>Nirvana</td>\n",
              "      <td>2002.0</td>\n",
              "      <td>I will never bother you\\nI will never promise ...</td>\n",
              "      <td>Sadness</td>\n",
              "      <td>{'love': 0.005618573802556577, 'admiration': 0...</td>\n",
              "      <td>approval</td>\n",
              "    </tr>\n",
              "    <tr>\n",
              "      <th>1</th>\n",
              "      <td>Damian Marley</td>\n",
              "      <td>Reggae</td>\n",
              "      <td>Here We Go</td>\n",
              "      <td>Stony Hill</td>\n",
              "      <td>2017.0</td>\n",
              "      <td>Here we go\\nMy big ego is gonna get me in trou...</td>\n",
              "      <td>Tension</td>\n",
              "      <td>{'love': 0.01285578431432239, 'admiration': 0....</td>\n",
              "      <td>approval</td>\n",
              "    </tr>\n",
              "    <tr>\n",
              "      <th>2</th>\n",
              "      <td>The Mission UK</td>\n",
              "      <td>Rock</td>\n",
              "      <td>Jade</td>\n",
              "      <td>Another Fall from Grace</td>\n",
              "      <td>2016.0</td>\n",
              "      <td>She came as Lolita dressed as Venus\\nAnd adorn...</td>\n",
              "      <td>Tenderness</td>\n",
              "      <td>{'love': 0.0018713928373936721, 'admiration': ...</td>\n",
              "      <td>approval</td>\n",
              "    </tr>\n",
              "    <tr>\n",
              "      <th>3</th>\n",
              "      <td>UB40</td>\n",
              "      <td>Reggae</td>\n",
              "      <td>Food For Thought</td>\n",
              "      <td>Signing Off</td>\n",
              "      <td>1980.0</td>\n",
              "      <td>Ivory Madonna, dying in the dust\\nWaiting for ...</td>\n",
              "      <td>Sadness</td>\n",
              "      <td>{'love': 0.0025377574088957366, 'admiration': ...</td>\n",
              "      <td>joy</td>\n",
              "    </tr>\n",
              "    <tr>\n",
              "      <th>4</th>\n",
              "      <td>Johnny Cash</td>\n",
              "      <td>Country</td>\n",
              "      <td>I’ve Been Everywhere</td>\n",
              "      <td>American II: Unchained</td>\n",
              "      <td>1996.0</td>\n",
              "      <td>I was totin' my pack along the dusty Winnemucc...</td>\n",
              "      <td>Sadness</td>\n",
              "      <td>{'love': 0.0017250513984272103, 'admiration': ...</td>\n",
              "      <td>approval</td>\n",
              "    </tr>\n",
              "    <tr>\n",
              "      <th>...</th>\n",
              "      <td>...</td>\n",
              "      <td>...</td>\n",
              "      <td>...</td>\n",
              "      <td>...</td>\n",
              "      <td>...</td>\n",
              "      <td>...</td>\n",
              "      <td>...</td>\n",
              "      <td>...</td>\n",
              "      <td>...</td>\n",
              "    </tr>\n",
              "    <tr>\n",
              "      <th>1155</th>\n",
              "      <td>The Beatles</td>\n",
              "      <td>Rock</td>\n",
              "      <td>Yesterday</td>\n",
              "      <td>Help!</td>\n",
              "      <td>1965.0</td>\n",
              "      <td>Yesterday\\nAll my troubles seemed so far away\\...</td>\n",
              "      <td>Sadness</td>\n",
              "      <td>{'love': 0.054357345111687515, 'admiration': 0...</td>\n",
              "      <td>approval</td>\n",
              "    </tr>\n",
              "    <tr>\n",
              "      <th>1156</th>\n",
              "      <td>The Sundays</td>\n",
              "      <td>Rock</td>\n",
              "      <td>Love</td>\n",
              "      <td>Blind</td>\n",
              "      <td>1992.0</td>\n",
              "      <td>Picture myself as a thin white child\\nBack to ...</td>\n",
              "      <td>Tenderness</td>\n",
              "      <td>{'love': 0.1810824905350691, 'admiration': 0.0...</td>\n",
              "      <td>love</td>\n",
              "    </tr>\n",
              "    <tr>\n",
              "      <th>1157</th>\n",
              "      <td>The Cure</td>\n",
              "      <td>Rock</td>\n",
              "      <td>Killing an Arab</td>\n",
              "      <td>Boys Don’t Cry</td>\n",
              "      <td>1978.0</td>\n",
              "      <td>Standing on the beach\\nWith a gun in my hand\\n...</td>\n",
              "      <td>Tension</td>\n",
              "      <td>{'love': 0.0010456896499298246, 'admiration': ...</td>\n",
              "      <td>sadness</td>\n",
              "    </tr>\n",
              "    <tr>\n",
              "      <th>1158</th>\n",
              "      <td>Garth Brooks</td>\n",
              "      <td>Country</td>\n",
              "      <td>Mom</td>\n",
              "      <td>Man Against Machine</td>\n",
              "      <td>2014.0</td>\n",
              "      <td>A little baby told God\\nHey I'm kinda scared, ...</td>\n",
              "      <td>Tenderness</td>\n",
              "      <td>{'love': 0.08135220795278049, 'admiration': 0....</td>\n",
              "      <td>admiration</td>\n",
              "    </tr>\n",
              "    <tr>\n",
              "      <th>1159</th>\n",
              "      <td>Alan Jackson</td>\n",
              "      <td>Country</td>\n",
              "      <td>The Older I Get</td>\n",
              "      <td>NaN</td>\n",
              "      <td>2017.0</td>\n",
              "      <td>The older I get\\nThe more I think\\nYou only ge...</td>\n",
              "      <td>Sadness</td>\n",
              "      <td>{'love': 0.030052815688329494, 'admiration': 0...</td>\n",
              "      <td>approval</td>\n",
              "    </tr>\n",
              "  </tbody>\n",
              "</table>\n",
              "<p>1160 rows × 9 columns</p>\n",
              "</div>\n",
              "    <div class=\"colab-df-buttons\">\n",
              "\n",
              "  <div class=\"colab-df-container\">\n",
              "    <button class=\"colab-df-convert\" onclick=\"convertToInteractive('df-91b5efca-0eed-46a9-9f6e-dd70658dc158')\"\n",
              "            title=\"Convert this dataframe to an interactive table.\"\n",
              "            style=\"display:none;\">\n",
              "\n",
              "  <svg xmlns=\"http://www.w3.org/2000/svg\" height=\"24px\" viewBox=\"0 -960 960 960\">\n",
              "    <path d=\"M120-120v-720h720v720H120Zm60-500h600v-160H180v160Zm220 220h160v-160H400v160Zm0 220h160v-160H400v160ZM180-400h160v-160H180v160Zm440 0h160v-160H620v160ZM180-180h160v-160H180v160Zm440 0h160v-160H620v160Z\"/>\n",
              "  </svg>\n",
              "    </button>\n",
              "\n",
              "  <style>\n",
              "    .colab-df-container {\n",
              "      display:flex;\n",
              "      gap: 12px;\n",
              "    }\n",
              "\n",
              "    .colab-df-convert {\n",
              "      background-color: #E8F0FE;\n",
              "      border: none;\n",
              "      border-radius: 50%;\n",
              "      cursor: pointer;\n",
              "      display: none;\n",
              "      fill: #1967D2;\n",
              "      height: 32px;\n",
              "      padding: 0 0 0 0;\n",
              "      width: 32px;\n",
              "    }\n",
              "\n",
              "    .colab-df-convert:hover {\n",
              "      background-color: #E2EBFA;\n",
              "      box-shadow: 0px 1px 2px rgba(60, 64, 67, 0.3), 0px 1px 3px 1px rgba(60, 64, 67, 0.15);\n",
              "      fill: #174EA6;\n",
              "    }\n",
              "\n",
              "    .colab-df-buttons div {\n",
              "      margin-bottom: 4px;\n",
              "    }\n",
              "\n",
              "    [theme=dark] .colab-df-convert {\n",
              "      background-color: #3B4455;\n",
              "      fill: #D2E3FC;\n",
              "    }\n",
              "\n",
              "    [theme=dark] .colab-df-convert:hover {\n",
              "      background-color: #434B5C;\n",
              "      box-shadow: 0px 1px 3px 1px rgba(0, 0, 0, 0.15);\n",
              "      filter: drop-shadow(0px 1px 2px rgba(0, 0, 0, 0.3));\n",
              "      fill: #FFFFFF;\n",
              "    }\n",
              "  </style>\n",
              "\n",
              "    <script>\n",
              "      const buttonEl =\n",
              "        document.querySelector('#df-91b5efca-0eed-46a9-9f6e-dd70658dc158 button.colab-df-convert');\n",
              "      buttonEl.style.display =\n",
              "        google.colab.kernel.accessAllowed ? 'block' : 'none';\n",
              "\n",
              "      async function convertToInteractive(key) {\n",
              "        const element = document.querySelector('#df-91b5efca-0eed-46a9-9f6e-dd70658dc158');\n",
              "        const dataTable =\n",
              "          await google.colab.kernel.invokeFunction('convertToInteractive',\n",
              "                                                    [key], {});\n",
              "        if (!dataTable) return;\n",
              "\n",
              "        const docLinkHtml = 'Like what you see? Visit the ' +\n",
              "          '<a target=\"_blank\" href=https://colab.research.google.com/notebooks/data_table.ipynb>data table notebook</a>'\n",
              "          + ' to learn more about interactive tables.';\n",
              "        element.innerHTML = '';\n",
              "        dataTable['output_type'] = 'display_data';\n",
              "        await google.colab.output.renderOutput(dataTable, element);\n",
              "        const docLink = document.createElement('div');\n",
              "        docLink.innerHTML = docLinkHtml;\n",
              "        element.appendChild(docLink);\n",
              "      }\n",
              "    </script>\n",
              "  </div>\n",
              "\n",
              "\n",
              "<div id=\"df-f71b6868-f1d3-4a71-b938-3cba7d78d2a2\">\n",
              "  <button class=\"colab-df-quickchart\" onclick=\"quickchart('df-f71b6868-f1d3-4a71-b938-3cba7d78d2a2')\"\n",
              "            title=\"Suggest charts.\"\n",
              "            style=\"display:none;\">\n",
              "\n",
              "<svg xmlns=\"http://www.w3.org/2000/svg\" height=\"24px\"viewBox=\"0 0 24 24\"\n",
              "     width=\"24px\">\n",
              "    <g>\n",
              "        <path d=\"M19 3H5c-1.1 0-2 .9-2 2v14c0 1.1.9 2 2 2h14c1.1 0 2-.9 2-2V5c0-1.1-.9-2-2-2zM9 17H7v-7h2v7zm4 0h-2V7h2v10zm4 0h-2v-4h2v4z\"/>\n",
              "    </g>\n",
              "</svg>\n",
              "  </button>\n",
              "\n",
              "<style>\n",
              "  .colab-df-quickchart {\n",
              "      --bg-color: #E8F0FE;\n",
              "      --fill-color: #1967D2;\n",
              "      --hover-bg-color: #E2EBFA;\n",
              "      --hover-fill-color: #174EA6;\n",
              "      --disabled-fill-color: #AAA;\n",
              "      --disabled-bg-color: #DDD;\n",
              "  }\n",
              "\n",
              "  [theme=dark] .colab-df-quickchart {\n",
              "      --bg-color: #3B4455;\n",
              "      --fill-color: #D2E3FC;\n",
              "      --hover-bg-color: #434B5C;\n",
              "      --hover-fill-color: #FFFFFF;\n",
              "      --disabled-bg-color: #3B4455;\n",
              "      --disabled-fill-color: #666;\n",
              "  }\n",
              "\n",
              "  .colab-df-quickchart {\n",
              "    background-color: var(--bg-color);\n",
              "    border: none;\n",
              "    border-radius: 50%;\n",
              "    cursor: pointer;\n",
              "    display: none;\n",
              "    fill: var(--fill-color);\n",
              "    height: 32px;\n",
              "    padding: 0;\n",
              "    width: 32px;\n",
              "  }\n",
              "\n",
              "  .colab-df-quickchart:hover {\n",
              "    background-color: var(--hover-bg-color);\n",
              "    box-shadow: 0 1px 2px rgba(60, 64, 67, 0.3), 0 1px 3px 1px rgba(60, 64, 67, 0.15);\n",
              "    fill: var(--button-hover-fill-color);\n",
              "  }\n",
              "\n",
              "  .colab-df-quickchart-complete:disabled,\n",
              "  .colab-df-quickchart-complete:disabled:hover {\n",
              "    background-color: var(--disabled-bg-color);\n",
              "    fill: var(--disabled-fill-color);\n",
              "    box-shadow: none;\n",
              "  }\n",
              "\n",
              "  .colab-df-spinner {\n",
              "    border: 2px solid var(--fill-color);\n",
              "    border-color: transparent;\n",
              "    border-bottom-color: var(--fill-color);\n",
              "    animation:\n",
              "      spin 1s steps(1) infinite;\n",
              "  }\n",
              "\n",
              "  @keyframes spin {\n",
              "    0% {\n",
              "      border-color: transparent;\n",
              "      border-bottom-color: var(--fill-color);\n",
              "      border-left-color: var(--fill-color);\n",
              "    }\n",
              "    20% {\n",
              "      border-color: transparent;\n",
              "      border-left-color: var(--fill-color);\n",
              "      border-top-color: var(--fill-color);\n",
              "    }\n",
              "    30% {\n",
              "      border-color: transparent;\n",
              "      border-left-color: var(--fill-color);\n",
              "      border-top-color: var(--fill-color);\n",
              "      border-right-color: var(--fill-color);\n",
              "    }\n",
              "    40% {\n",
              "      border-color: transparent;\n",
              "      border-right-color: var(--fill-color);\n",
              "      border-top-color: var(--fill-color);\n",
              "    }\n",
              "    60% {\n",
              "      border-color: transparent;\n",
              "      border-right-color: var(--fill-color);\n",
              "    }\n",
              "    80% {\n",
              "      border-color: transparent;\n",
              "      border-right-color: var(--fill-color);\n",
              "      border-bottom-color: var(--fill-color);\n",
              "    }\n",
              "    90% {\n",
              "      border-color: transparent;\n",
              "      border-bottom-color: var(--fill-color);\n",
              "    }\n",
              "  }\n",
              "</style>\n",
              "\n",
              "  <script>\n",
              "    async function quickchart(key) {\n",
              "      const quickchartButtonEl =\n",
              "        document.querySelector('#' + key + ' button');\n",
              "      quickchartButtonEl.disabled = true;  // To prevent multiple clicks.\n",
              "      quickchartButtonEl.classList.add('colab-df-spinner');\n",
              "      try {\n",
              "        const charts = await google.colab.kernel.invokeFunction(\n",
              "            'suggestCharts', [key], {});\n",
              "      } catch (error) {\n",
              "        console.error('Error during call to suggestCharts:', error);\n",
              "      }\n",
              "      quickchartButtonEl.classList.remove('colab-df-spinner');\n",
              "      quickchartButtonEl.classList.add('colab-df-quickchart-complete');\n",
              "    }\n",
              "    (() => {\n",
              "      let quickchartButtonEl =\n",
              "        document.querySelector('#df-f71b6868-f1d3-4a71-b938-3cba7d78d2a2 button');\n",
              "      quickchartButtonEl.style.display =\n",
              "        google.colab.kernel.accessAllowed ? 'block' : 'none';\n",
              "    })();\n",
              "  </script>\n",
              "</div>\n",
              "    </div>\n",
              "  </div>\n"
            ]
          },
          "metadata": {},
          "execution_count": 29
        }
      ],
      "source": [
        "s_data"
      ]
    },
    {
      "cell_type": "code",
      "execution_count": null,
      "metadata": {
        "colab": {
          "base_uri": "https://localhost:8080/"
        },
        "id": "t9F6zgILWau-",
        "outputId": "de4e00dd-2f46-4c92-e68c-8b6b41a6ef15"
      },
      "outputs": [
        {
          "output_type": "execute_result",
          "data": {
            "text/plain": [
              "{'love': 0.030052815688329494,\n",
              " 'admiration': 0.011074081918746797,\n",
              " 'approval': 0.10686172024262222,\n",
              " 'neutral': 0.6105132684901808,\n",
              " 'joy': 0.0512218676158227,\n",
              " 'optimism': 0.011116396847435019,\n",
              " 'gratitude': 0.031045838117169103,\n",
              " 'desire': 0.0023388673964125865,\n",
              " 'annoyance': 0.01711587595160712,\n",
              " 'caring': 0.027626849396090784,\n",
              " 'disapproval': 0.014446912283980937,\n",
              " 'anger': 0.004998150651138558,\n",
              " 'realization': 0.04201032611485006,\n",
              " 'sadness': 0.011259505701618213,\n",
              " 'excitement': 0.005218889636594351,\n",
              " 'disappointment': 0.011803891381008945,\n",
              " 'amusement': 0.06522308826749919,\n",
              " 'confusion': 0.041439066073067035,\n",
              " 'disgust': 0.001827720688500752,\n",
              " 'curiosity': 0.00863167388668058,\n",
              " 'surprise': 0.003289497811982239,\n",
              " 'remorse': 0.000946129759761265,\n",
              " 'fear': 0.0014391312354498289,\n",
              " 'nervousness': 0.0010433841953547953,\n",
              " 'embarrassment': 0.001134848929006804,\n",
              " 'grief': 0.0006694613883596365,\n",
              " 'pride': 0.0009757750500064118,\n",
              " 'relief': 0.002087164987284323}"
            ]
          },
          "metadata": {},
          "execution_count": 30
        }
      ],
      "source": [
        "s_data['sentiment_scores'][1159]"
      ]
    },
    {
      "cell_type": "code",
      "execution_count": null,
      "metadata": {
        "colab": {
          "base_uri": "https://localhost:8080/",
          "height": 35
        },
        "id": "cIHm4OmLWRqt",
        "outputId": "5844b4bc-91e1-4832-a230-2e526274b626"
      },
      "outputs": [
        {
          "output_type": "execute_result",
          "data": {
            "text/plain": [
              "'Sadness'"
            ],
            "application/vnd.google.colaboratory.intrinsic+json": {
              "type": "string"
            }
          },
          "metadata": {},
          "execution_count": 31
        }
      ],
      "source": [
        "s_data['label'][1159]"
      ]
    },
    {
      "cell_type": "markdown",
      "metadata": {
        "id": "7sne-kedQu0X"
      },
      "source": [
        "## Mapping\n",
        "\n",
        "---\n",
        "love --> Tenderness<br>\n",
        "admiration --> Tenderness<br>\n",
        "approval--> Tenderness<br>\n",
        "neutral--> IGNORE<br>\n",
        "joy--> Tenderness<br>\n",
        "optimism--> Tenderness<br>\n",
        "gratitude--> Tenderness<br>\n",
        "desire--> Tension<br>\n",
        "annoyance--> Tension<br>\n",
        "caring--> Tenderness<br>\n",
        "disapproval--> Tension<br>\n",
        "anger--> Tension<br>\n",
        "realization--> Tension<br>\n",
        "sadness--> Sadness<br>\n",
        "excitement--> Tension<br>\n",
        "disappointment--> Sadness<br>\n",
        "amusement--> Tenderness<br>\n",
        "confusion--> Tension<br>\n",
        "disgust--> Tension<br>\n",
        "curiosity--> Tension<br>\n",
        "surprise--> Tension<br>\n",
        "remorse--> Sadness<br>\n",
        "fear--> Tension<br>\n",
        "nervousness--> Tension<br>\n",
        "embarrassment--> Tension<br>\n",
        "grief--> Sadness<br>\n",
        "pride--> Tenderness<br>\n",
        "relief--> Tenderness<br>\n",
        "\n",
        "\n",
        "---\n",
        "note: we can also calculte different accuracies if we categorize \"surprise\" into different categories\n",
        "\n"
      ]
    },
    {
      "cell_type": "code",
      "execution_count": null,
      "metadata": {
        "id": "kEYtjcXuQuTl"
      },
      "outputs": [],
      "source": [
        "emotion_mapping = {\n",
        "    'love' : 'Tenderness',\n",
        "    'admiration' : 'Tenderness',\n",
        "    'approval' : 'Tenderness',\n",
        "    'joy' : 'Tenderness',\n",
        "    'optimism' : 'Tenderness',\n",
        "    'gratitude' : 'Tenderness',\n",
        "    'desire' : 'Tension',\n",
        "    'annoyance' : 'Tension',\n",
        "    'caring' : 'Tenderness',\n",
        "    'disapproval' : 'Tension',\n",
        "    'anger' : 'Tension',\n",
        "    'realization' : 'Tension',\n",
        "    'sadness' : 'Sadness',\n",
        "    'excitement' : 'Tension',\n",
        "    'disappointment' : 'Sadness',\n",
        "    'amusement' : 'Tenderness',\n",
        "    'confusion' : 'Tension',\n",
        "    'disgust' : 'Tension',\n",
        "    'curiosity' : 'Tension',\n",
        "    'surprise' : 'Tension',\n",
        "    'remorse' : 'Sadness',\n",
        "    'fear' : 'Tension',\n",
        "    'nervousness' : 'Tension',\n",
        "    'embarrassment' : 'Tension',\n",
        "    'grief' : 'Sadness',\n",
        "    'pride' : 'Tenderness',\n",
        "    'relief' : 'Tenderness'\n",
        "}\n"
      ]
    },
    {
      "cell_type": "code",
      "execution_count": null,
      "metadata": {
        "id": "wdTlsmES_EY1"
      },
      "outputs": [],
      "source": [
        "mapped_predictions = [emotion_mapping[dominant] for dominant in s_data['dominant_sentiment']]"
      ]
    },
    {
      "cell_type": "code",
      "source": [
        "s_data['mapped_emotion'] = mapped_predictions"
      ],
      "metadata": {
        "id": "wop9DvpCxE7N"
      },
      "execution_count": null,
      "outputs": []
    },
    {
      "cell_type": "code",
      "execution_count": null,
      "metadata": {
        "id": "mrQnBN-iTRkg"
      },
      "outputs": [],
      "source": [
        "original_emotions = s_data['label']\n",
        "correct_predictions = sum(original == predicted for original, predicted in zip(original_emotions, mapped_predictions))\n",
        "accuracy_m2 = correct_predictions / len(s_data)\n"
      ]
    },
    {
      "cell_type": "code",
      "source": [
        "accuracy_m2"
      ],
      "metadata": {
        "colab": {
          "base_uri": "https://localhost:8080/"
        },
        "id": "RrHU3NVwWvxk",
        "outputId": "57588d3b-30df-485d-bbfe-c1c4b7fabae2"
      },
      "execution_count": null,
      "outputs": [
        {
          "output_type": "execute_result",
          "data": {
            "text/plain": [
              "0.44396551724137934"
            ]
          },
          "metadata": {},
          "execution_count": 38
        }
      ]
    },
    {
      "cell_type": "markdown",
      "source": [
        "# Visualizations"
      ],
      "metadata": {
        "id": "KlbKSK7Iq7--"
      }
    },
    {
      "cell_type": "code",
      "source": [
        "pip install matplotlib seaborn"
      ],
      "metadata": {
        "colab": {
          "base_uri": "https://localhost:8080/"
        },
        "id": "p_F50kHgqZDa",
        "outputId": "1e07afe2-3bea-4d10-e802-2d101d8319d0"
      },
      "execution_count": null,
      "outputs": [
        {
          "output_type": "stream",
          "name": "stdout",
          "text": [
            "Requirement already satisfied: matplotlib in /usr/local/lib/python3.10/dist-packages (3.7.1)\n",
            "Requirement already satisfied: seaborn in /usr/local/lib/python3.10/dist-packages (0.12.2)\n",
            "Requirement already satisfied: contourpy>=1.0.1 in /usr/local/lib/python3.10/dist-packages (from matplotlib) (1.1.1)\n",
            "Requirement already satisfied: cycler>=0.10 in /usr/local/lib/python3.10/dist-packages (from matplotlib) (0.12.1)\n",
            "Requirement already satisfied: fonttools>=4.22.0 in /usr/local/lib/python3.10/dist-packages (from matplotlib) (4.43.1)\n",
            "Requirement already satisfied: kiwisolver>=1.0.1 in /usr/local/lib/python3.10/dist-packages (from matplotlib) (1.4.5)\n",
            "Requirement already satisfied: numpy>=1.20 in /usr/local/lib/python3.10/dist-packages (from matplotlib) (1.23.5)\n",
            "Requirement already satisfied: packaging>=20.0 in /usr/local/lib/python3.10/dist-packages (from matplotlib) (23.2)\n",
            "Requirement already satisfied: pillow>=6.2.0 in /usr/local/lib/python3.10/dist-packages (from matplotlib) (9.4.0)\n",
            "Requirement already satisfied: pyparsing>=2.3.1 in /usr/local/lib/python3.10/dist-packages (from matplotlib) (3.1.1)\n",
            "Requirement already satisfied: python-dateutil>=2.7 in /usr/local/lib/python3.10/dist-packages (from matplotlib) (2.8.2)\n",
            "Requirement already satisfied: pandas>=0.25 in /usr/local/lib/python3.10/dist-packages (from seaborn) (1.5.3)\n",
            "Requirement already satisfied: pytz>=2020.1 in /usr/local/lib/python3.10/dist-packages (from pandas>=0.25->seaborn) (2023.3.post1)\n",
            "Requirement already satisfied: six>=1.5 in /usr/local/lib/python3.10/dist-packages (from python-dateutil>=2.7->matplotlib) (1.16.0)\n"
          ]
        }
      ]
    },
    {
      "cell_type": "code",
      "source": [
        "import matplotlib.pyplot as plt\n",
        "import seaborn as sns\n",
        "\n",
        "# Setting the style for seaborn\n",
        "sns.set_style(\"whitegrid\")\n",
        "\n",
        "# Plot for original_emotion distribution\n",
        "plt.figure(figsize=(10, 6))\n",
        "sns.countplot(data=s_data, x='label', order=s_data['label'].value_counts().index)\n",
        "plt.title('Distribution of Original Emotions')\n",
        "plt.ylabel('Count')\n",
        "plt.xlabel('Emotion')\n",
        "plt.show()\n",
        "\n",
        "# Plot for mapped_emotion distribution\n",
        "plt.figure(figsize=(10, 6))\n",
        "sns.countplot(data=s_data, x='mapped_emotion', order=s_data['mapped_emotion'].value_counts().index)\n",
        "plt.title('Distribution of Mapped Emotions')\n",
        "plt.ylabel('Count')\n",
        "plt.xlabel('Emotion')\n",
        "plt.show()"
      ],
      "metadata": {
        "colab": {
          "base_uri": "https://localhost:8080/",
          "height": 1000
        },
        "id": "oUMari7zrAKN",
        "outputId": "a9c65177-7f76-461a-8f4e-aa8c7cb8e9f7"
      },
      "execution_count": null,
      "outputs": [
        {
          "output_type": "display_data",
          "data": {
            "text/plain": [
              "<Figure size 1000x600 with 1 Axes>"
            ],
            "image/png": "[encoded data removed]"
          },
          "metadata": {}
        },
        {
          "output_type": "display_data",
          "data": {
            "text/plain": [
              "<Figure size 1000x600 with 1 Axes>"
            ],
            "image/png": "[encoded data removed]"
          },
          "metadata": {}
        }
      ]
    },
    {
      "cell_type": "code",
      "source": [
        "import numpy as np\n",
        "from sklearn.metrics import confusion_matrix\n",
        "import matplotlib.pyplot as plt\n",
        "import seaborn as sns\n",
        "\n",
        "# Calculate the confusion matrix\n",
        "cm = confusion_matrix(original_emotions, mapped_predictions, labels=list(emotion_mapping.values()))\n",
        "\n",
        "# Calculate per-category accuracy\n",
        "accuracies = cm.diagonal() / cm.sum(axis=1)\n",
        "\n",
        "# Mapping of emotions to their accuracies\n",
        "emotion_accuracy = dict(zip(list(emotion_mapping.values()), accuracies))\n",
        "\n",
        "# Visualize the accuracies\n",
        "plt.figure(figsize=(10, 6))\n",
        "sns.barplot(x=list(emotion_accuracy.keys()), y=list(emotion_accuracy.values()), palette=\"viridis\")\n",
        "plt.title('Prediction Accuracy for Each Emotion Category')\n",
        "plt.ylabel('Accuracy')\n",
        "plt.xlabel('Emotion')\n",
        "plt.ylim(0, 1)  # Setting y-axis limits to be between 0 and 1 for clarity\n",
        "plt.show()"
      ],
      "metadata": {
        "colab": {
          "base_uri": "https://localhost:8080/",
          "height": 600
        },
        "id": "Kl2oDQLlrdOW",
        "outputId": "29171090-ca8e-419b-8150-e2c42b000960"
      },
      "execution_count": null,
      "outputs": [
        {
          "output_type": "stream",
          "name": "stderr",
          "text": [
            "<ipython-input-41-6bcb3a720b99>:10: RuntimeWarning: invalid value encountered in divide\n",
            "  accuracies = cm.diagonal() / cm.sum(axis=1)\n"
          ]
        },
        {
          "output_type": "display_data",
          "data": {
            "text/plain": [
              "<Figure size 1000x600 with 1 Axes>"
            ],
            "image/png": "[encoded data removed]"
          },
          "metadata": {}
        }
      ]
    },
    {
      "cell_type": "code",
      "source": [
        "from sklearn.metrics import confusion_matrix\n",
        "import seaborn as sns\n",
        "import matplotlib.pyplot as plt\n",
        "\n",
        "# Get unique labels from both original and mapped emotions\n",
        "unique_labels = list(set(original_emotions) | set(mapped_predictions))\n",
        "\n",
        "# Calculate the confusion matrix\n",
        "cm = confusion_matrix(original_emotions, mapped_predictions, labels=unique_labels)\n",
        "\n",
        "# Visualize the confusion matrix\n",
        "plt.figure(figsize=(12, 8))\n",
        "sns.heatmap(cm, annot=True, fmt='g', cmap='Blues', xticklabels=unique_labels, yticklabels=unique_labels)\n",
        "plt.title('Confusion Matrix')\n",
        "plt.ylabel('True Labels')\n",
        "plt.xlabel('Predicted Labels')\n",
        "plt.show()\n"
      ],
      "metadata": {
        "colab": {
          "base_uri": "https://localhost:8080/",
          "height": 718
        },
        "id": "-IdVVOWxr2yh",
        "outputId": "1d35a460-bedd-46ff-d45f-1c15cf6a4f13"
      },
      "execution_count": null,
      "outputs": [
        {
          "output_type": "display_data",
          "data": {
            "text/plain": [
              "<Figure size 1200x800 with 2 Axes>"
            ],
            "image/png": "[encoded data removed]"
          },
          "metadata": {}
        }
      ]
    }
  ],
  "metadata": {
    "colab": {
      "provenance": [],
      "machine_shape": "hm",
      "gpuType": "T4",
      "include_colab_link": true
    },
    "kernelspec": {
      "display_name": "Python 3",
      "name": "python3"
    },
    "language_info": {
      "name": "python"
    },
    "widgets": {
      "application/vnd.jupyter.widget-state+json": {
        "a3f6bd72971448f7b3de89c11bfadd27": {
          "model_module": "@jupyter-widgets/controls",
          "model_name": "HBoxModel",
          "model_module_version": "1.5.0",
          "state": {
            "_dom_classes": [],
            "_model_module": "@jupyter-widgets/controls",
            "_model_module_version": "1.5.0",
            "_model_name": "HBoxModel",
            "_view_count": null,
            "_view_module": "@jupyter-widgets/controls",
            "_view_module_version": "1.5.0",
            "_view_name": "HBoxView",
            "box_style": "",
            "children": [
              "IPY_MODEL_7955061fb12744d4bba61404f990fa15",
              "IPY_MODEL_21907db803eb4bc48e0206ad71bcfd7d",
              "IPY_MODEL_7803185786fa4ba1b846c32e76997bdc"
            ],
            "layout": "IPY_MODEL_a39e9246ae6041d8800ac2567ffc9582"
          }
        },
        "7955061fb12744d4bba61404f990fa15": {
          "model_module": "@jupyter-widgets/controls",
          "model_name": "HTMLModel",
          "model_module_version": "1.5.0",
          "state": {
            "_dom_classes": [],
            "_model_module": "@jupyter-widgets/controls",
            "_model_module_version": "1.5.0",
            "_model_name": "HTMLModel",
            "_view_count": null,
            "_view_module": "@jupyter-widgets/controls",
            "_view_module_version": "1.5.0",
            "_view_name": "HTMLView",
            "description": "",
            "description_tooltip": null,
            "layout": "IPY_MODEL_8e945d6beb894c87ac344c9bd26b495a",
            "placeholder": "​",
            "style": "IPY_MODEL_9c942ad8004a415f9023ef6cbff473a2",
            "value": "Downloading (…)cial_tokens_map.json: 100%"
          }
        },
        "21907db803eb4bc48e0206ad71bcfd7d": {
          "model_module": "@jupyter-widgets/controls",
          "model_name": "FloatProgressModel",
          "model_module_version": "1.5.0",
          "state": {
            "_dom_classes": [],
            "_model_module": "@jupyter-widgets/controls",
            "_model_module_version": "1.5.0",
            "_model_name": "FloatProgressModel",
            "_view_count": null,
            "_view_module": "@jupyter-widgets/controls",
            "_view_module_version": "1.5.0",
            "_view_name": "ProgressView",
            "bar_style": "success",
            "description": "",
            "description_tooltip": null,
            "layout": "IPY_MODEL_fededdeeb5654899b9b3692f9b27373b",
            "max": 280,
            "min": 0,
            "orientation": "horizontal",
            "style": "IPY_MODEL_40a5721438f944ff98fdda987d8a71d6",
            "value": 280
          }
        },
        "7803185786fa4ba1b846c32e76997bdc": {
          "model_module": "@jupyter-widgets/controls",
          "model_name": "HTMLModel",
          "model_module_version": "1.5.0",
          "state": {
            "_dom_classes": [],
            "_model_module": "@jupyter-widgets/controls",
            "_model_module_version": "1.5.0",
            "_model_name": "HTMLModel",
            "_view_count": null,
            "_view_module": "@jupyter-widgets/controls",
            "_view_module_version": "1.5.0",
            "_view_name": "HTMLView",
            "description": "",
            "description_tooltip": null,
            "layout": "IPY_MODEL_0b916f5a09f044f99817b307680c80f9",
            "placeholder": "​",
            "style": "IPY_MODEL_6bbb495a93c64f94ad99bfc9490134fe",
            "value": " 280/280 [00:00&lt;00:00, 27.9kB/s]"
          }
        },
        "a39e9246ae6041d8800ac2567ffc9582": {
          "model_module": "@jupyter-widgets/base",
          "model_name": "LayoutModel",
          "model_module_version": "1.2.0",
          "state": {
            "_model_module": "@jupyter-widgets/base",
            "_model_module_version": "1.2.0",
            "_model_name": "LayoutModel",
            "_view_count": null,
            "_view_module": "@jupyter-widgets/base",
            "_view_module_version": "1.2.0",
            "_view_name": "LayoutView",
            "align_content": null,
            "align_items": null,
            "align_self": null,
            "border": null,
            "bottom": null,
            "display": null,
            "flex": null,
            "flex_flow": null,
            "grid_area": null,
            "grid_auto_columns": null,
            "grid_auto_flow": null,
            "grid_auto_rows": null,
            "grid_column": null,
            "grid_gap": null,
            "grid_row": null,
            "grid_template_areas": null,
            "grid_template_columns": null,
            "grid_template_rows": null,
            "height": null,
            "justify_content": null,
            "justify_items": null,
            "left": null,
            "margin": null,
            "max_height": null,
            "max_width": null,
            "min_height": null,
            "min_width": null,
            "object_fit": null,
            "object_position": null,
            "order": null,
            "overflow": null,
            "overflow_x": null,
            "overflow_y": null,
            "padding": null,
            "right": null,
            "top": null,
            "visibility": null,
            "width": null
          }
        },
        "8e945d6beb894c87ac344c9bd26b495a": {
          "model_module": "@jupyter-widgets/base",
          "model_name": "LayoutModel",
          "model_module_version": "1.2.0",
          "state": {
            "_model_module": "@jupyter-widgets/base",
            "_model_module_version": "1.2.0",
            "_model_name": "LayoutModel",
            "_view_count": null,
            "_view_module": "@jupyter-widgets/base",
            "_view_module_version": "1.2.0",
            "_view_name": "LayoutView",
            "align_content": null,
            "align_items": null,
            "align_self": null,
            "border": null,
            "bottom": null,
            "display": null,
            "flex": null,
            "flex_flow": null,
            "grid_area": null,
            "grid_auto_columns": null,
            "grid_auto_flow": null,
            "grid_auto_rows": null,
            "grid_column": null,
            "grid_gap": null,
            "grid_row": null,
            "grid_template_areas": null,
            "grid_template_columns": null,
            "grid_template_rows": null,
            "height": null,
            "justify_content": null,
            "justify_items": null,
            "left": null,
            "margin": null,
            "max_height": null,
            "max_width": null,
            "min_height": null,
            "min_width": null,
            "object_fit": null,
            "object_position": null,
            "order": null,
            "overflow": null,
            "overflow_x": null,
            "overflow_y": null,
            "padding": null,
            "right": null,
            "top": null,
            "visibility": null,
            "width": null
          }
        },
        "9c942ad8004a415f9023ef6cbff473a2": {
          "model_module": "@jupyter-widgets/controls",
          "model_name": "DescriptionStyleModel",
          "model_module_version": "1.5.0",
          "state": {
            "_model_module": "@jupyter-widgets/controls",
            "_model_module_version": "1.5.0",
            "_model_name": "DescriptionStyleModel",
            "_view_count": null,
            "_view_module": "@jupyter-widgets/base",
            "_view_module_version": "1.2.0",
            "_view_name": "StyleView",
            "description_width": ""
          }
        },
        "fededdeeb5654899b9b3692f9b27373b": {
          "model_module": "@jupyter-widgets/base",
          "model_name": "LayoutModel",
          "model_module_version": "1.2.0",
          "state": {
            "_model_module": "@jupyter-widgets/base",
            "_model_module_version": "1.2.0",
            "_model_name": "LayoutModel",
            "_view_count": null,
            "_view_module": "@jupyter-widgets/base",
            "_view_module_version": "1.2.0",
            "_view_name": "LayoutView",
            "align_content": null,
            "align_items": null,
            "align_self": null,
            "border": null,
            "bottom": null,
            "display": null,
            "flex": null,
            "flex_flow": null,
            "grid_area": null,
            "grid_auto_columns": null,
            "grid_auto_flow": null,
            "grid_auto_rows": null,
            "grid_column": null,
            "grid_gap": null,
            "grid_row": null,
            "grid_template_areas": null,
            "grid_template_columns": null,
            "grid_template_rows": null,
            "height": null,
            "justify_content": null,
            "justify_items": null,
            "left": null,
            "margin": null,
            "max_height": null,
            "max_width": null,
            "min_height": null,
            "min_width": null,
            "object_fit": null,
            "object_position": null,
            "order": null,
            "overflow": null,
            "overflow_x": null,
            "overflow_y": null,
            "padding": null,
            "right": null,
            "top": null,
            "visibility": null,
            "width": null
          }
        },
        "40a5721438f944ff98fdda987d8a71d6": {
          "model_module": "@jupyter-widgets/controls",
          "model_name": "ProgressStyleModel",
          "model_module_version": "1.5.0",
          "state": {
            "_model_module": "@jupyter-widgets/controls",
            "_model_module_version": "1.5.0",
            "_model_name": "ProgressStyleModel",
            "_view_count": null,
            "_view_module": "@jupyter-widgets/base",
            "_view_module_version": "1.2.0",
            "_view_name": "StyleView",
            "bar_color": null,
            "description_width": ""
          }
        },
        "0b916f5a09f044f99817b307680c80f9": {
          "model_module": "@jupyter-widgets/base",
          "model_name": "LayoutModel",
          "model_module_version": "1.2.0",
          "state": {
            "_model_module": "@jupyter-widgets/base",
            "_model_module_version": "1.2.0",
            "_model_name": "LayoutModel",
            "_view_count": null,
            "_view_module": "@jupyter-widgets/base",
            "_view_module_version": "1.2.0",
            "_view_name": "LayoutView",
            "align_content": null,
            "align_items": null,
            "align_self": null,
            "border": null,
            "bottom": null,
            "display": null,
            "flex": null,
            "flex_flow": null,
            "grid_area": null,
            "grid_auto_columns": null,
            "grid_auto_flow": null,
            "grid_auto_rows": null,
            "grid_column": null,
            "grid_gap": null,
            "grid_row": null,
            "grid_template_areas": null,
            "grid_template_columns": null,
            "grid_template_rows": null,
            "height": null,
            "justify_content": null,
            "justify_items": null,
            "left": null,
            "margin": null,
            "max_height": null,
            "max_width": null,
            "min_height": null,
            "min_width": null,
            "object_fit": null,
            "object_position": null,
            "order": null,
            "overflow": null,
            "overflow_x": null,
            "overflow_y": null,
            "padding": null,
            "right": null,
            "top": null,
            "visibility": null,
            "width": null
          }
        },
        "6bbb495a93c64f94ad99bfc9490134fe": {
          "model_module": "@jupyter-widgets/controls",
          "model_name": "DescriptionStyleModel",
          "model_module_version": "1.5.0",
          "state": {
            "_model_module": "@jupyter-widgets/controls",
            "_model_module_version": "1.5.0",
            "_model_name": "DescriptionStyleModel",
            "_view_count": null,
            "_view_module": "@jupyter-widgets/base",
            "_view_module_version": "1.2.0",
            "_view_name": "StyleView",
            "description_width": ""
          }
        }
      }
    },
    "accelerator": "GPU"
  },
  "nbformat": 4,
  "nbformat_minor": 0
}