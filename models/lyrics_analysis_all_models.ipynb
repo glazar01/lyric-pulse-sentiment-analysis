{
  "nbformat": 4,
  "nbformat_minor": 0,
  "metadata": {
    "colab": {
      "provenance": [],
      "machine_shape": "hm",
      "include_colab_link": true
    },
    "kernelspec": {
      "name": "python3",
      "display_name": "Python 3"
    },
    "language_info": {
      "name": "python"
    },
    "accelerator": "TPU"
  },
  "cells": [
    {
      "cell_type": "markdown",
      "metadata": {
        "id": "view-in-github",
        "colab_type": "text"
      },
      "source": [
        "<a href=\"https://colab.research.google.com/github/glazar01/lyric-pulse-sentiment-analysis/blob/main/models/lyrics_analysis_all_models.ipynb\" target=\"_parent\"><img src=\"https://colab.research.google.com/assets/colab-badge.svg\" alt=\"Open In Colab\"/></a>"
      ]
    },
    {
      "cell_type": "markdown",
      "source": [
        "# Lyric Pulse: Evaluating Emotion Recognition Models on Song Lyrics"
      ],
      "metadata": {
        "id": "PqtzBiEHWWNW"
      }
    },
    {
      "cell_type": "markdown",
      "source": [
        "# Libraries"
      ],
      "metadata": {
        "id": "vsRX7nBURGgV"
      }
    },
    {
      "cell_type": "code",
      "source": [
        "!pip install --no-cache-dir transformers sentencepiece"
      ],
      "metadata": {
        "colab": {
          "base_uri": "https://localhost:8080/"
        },
        "id": "qgKAsDy3WSLC",
        "outputId": "9b9f7b1a-ea23-466a-bb3c-ba06753bc89b"
      },
      "execution_count": 1,
      "outputs": [
        {
          "output_type": "stream",
          "name": "stdout",
          "text": [
            "Requirement already satisfied: transformers in /usr/local/lib/python3.10/dist-packages (4.34.1)\n",
            "Requirement already satisfied: sentencepiece in /usr/local/lib/python3.10/dist-packages (0.1.99)\n",
            "Requirement already satisfied: filelock in /usr/local/lib/python3.10/dist-packages (from transformers) (3.12.4)\n",
            "Requirement already satisfied: huggingface-hub<1.0,>=0.16.4 in /usr/local/lib/python3.10/dist-packages (from transformers) (0.17.3)\n",
            "Requirement already satisfied: numpy>=1.17 in /usr/local/lib/python3.10/dist-packages (from transformers) (1.23.5)\n",
            "Requirement already satisfied: packaging>=20.0 in /usr/local/lib/python3.10/dist-packages (from transformers) (23.2)\n",
            "Requirement already satisfied: pyyaml>=5.1 in /usr/local/lib/python3.10/dist-packages (from transformers) (6.0.1)\n",
            "Requirement already satisfied: regex!=2019.12.17 in /usr/local/lib/python3.10/dist-packages (from transformers) (2023.6.3)\n",
            "Requirement already satisfied: requests in /usr/local/lib/python3.10/dist-packages (from transformers) (2.31.0)\n",
            "Requirement already satisfied: tokenizers<0.15,>=0.14 in /usr/local/lib/python3.10/dist-packages (from transformers) (0.14.1)\n",
            "Requirement already satisfied: safetensors>=0.3.1 in /usr/local/lib/python3.10/dist-packages (from transformers) (0.4.0)\n",
            "Requirement already satisfied: tqdm>=4.27 in /usr/local/lib/python3.10/dist-packages (from transformers) (4.66.1)\n",
            "Requirement already satisfied: fsspec in /usr/local/lib/python3.10/dist-packages (from huggingface-hub<1.0,>=0.16.4->transformers) (2023.6.0)\n",
            "Requirement already satisfied: typing-extensions>=3.7.4.3 in /usr/local/lib/python3.10/dist-packages (from huggingface-hub<1.0,>=0.16.4->transformers) (4.5.0)\n",
            "Requirement already satisfied: charset-normalizer<4,>=2 in /usr/local/lib/python3.10/dist-packages (from requests->transformers) (3.3.1)\n",
            "Requirement already satisfied: idna<4,>=2.5 in /usr/local/lib/python3.10/dist-packages (from requests->transformers) (3.4)\n",
            "Requirement already satisfied: urllib3<3,>=1.21.1 in /usr/local/lib/python3.10/dist-packages (from requests->transformers) (2.0.7)\n",
            "Requirement already satisfied: certifi>=2017.4.17 in /usr/local/lib/python3.10/dist-packages (from requests->transformers) (2023.7.22)\n"
          ]
        }
      ]
    },
    {
      "cell_type": "code",
      "source": [
        "!pip3 install torch"
      ],
      "metadata": {
        "colab": {
          "base_uri": "https://localhost:8080/"
        },
        "id": "8NiCys7MW4Zo",
        "outputId": "54fc92a4-3ed8-444f-f95c-d4888218bedf"
      },
      "execution_count": 2,
      "outputs": [
        {
          "output_type": "stream",
          "name": "stdout",
          "text": [
            "Requirement already satisfied: torch in /usr/local/lib/python3.10/dist-packages (2.1.0+cu118)\n",
            "Requirement already satisfied: filelock in /usr/local/lib/python3.10/dist-packages (from torch) (3.12.4)\n",
            "Requirement already satisfied: typing-extensions in /usr/local/lib/python3.10/dist-packages (from torch) (4.5.0)\n",
            "Requirement already satisfied: sympy in /usr/local/lib/python3.10/dist-packages (from torch) (1.12)\n",
            "Requirement already satisfied: networkx in /usr/local/lib/python3.10/dist-packages (from torch) (3.2)\n",
            "Requirement already satisfied: jinja2 in /usr/local/lib/python3.10/dist-packages (from torch) (3.1.2)\n",
            "Requirement already satisfied: fsspec in /usr/local/lib/python3.10/dist-packages (from torch) (2023.6.0)\n",
            "Requirement already satisfied: triton==2.1.0 in /usr/local/lib/python3.10/dist-packages (from torch) (2.1.0)\n",
            "Requirement already satisfied: MarkupSafe>=2.0 in /usr/local/lib/python3.10/dist-packages (from jinja2->torch) (2.1.3)\n",
            "Requirement already satisfied: mpmath>=0.19 in /usr/local/lib/python3.10/dist-packages (from sympy->torch) (1.3.0)\n"
          ]
        }
      ]
    },
    {
      "cell_type": "code",
      "source": [
        "pip install tensorflow"
      ],
      "metadata": {
        "id": "hdtXzJ8-Xkes",
        "outputId": "e129d51f-ff9c-47de-d2b3-02c9dabd0705",
        "colab": {
          "base_uri": "https://localhost:8080/"
        }
      },
      "execution_count": 17,
      "outputs": [
        {
          "output_type": "stream",
          "name": "stdout",
          "text": [
            "Requirement already satisfied: tensorflow in /usr/local/lib/python3.10/dist-packages (2.12.0)\n",
            "Requirement already satisfied: absl-py>=1.0.0 in /usr/local/lib/python3.10/dist-packages (from tensorflow) (1.4.0)\n",
            "Requirement already satisfied: astunparse>=1.6.0 in /usr/local/lib/python3.10/dist-packages (from tensorflow) (1.6.3)\n",
            "Requirement already satisfied: flatbuffers>=2.0 in /usr/local/lib/python3.10/dist-packages (from tensorflow) (23.5.26)\n",
            "Requirement already satisfied: gast<=0.4.0,>=0.2.1 in /usr/local/lib/python3.10/dist-packages (from tensorflow) (0.4.0)\n",
            "Requirement already satisfied: google-pasta>=0.1.1 in /usr/local/lib/python3.10/dist-packages (from tensorflow) (0.2.0)\n",
            "Requirement already satisfied: grpcio<2.0,>=1.24.3 in /usr/local/lib/python3.10/dist-packages (from tensorflow) (1.59.0)\n",
            "Requirement already satisfied: h5py>=2.9.0 in /usr/local/lib/python3.10/dist-packages (from tensorflow) (3.9.0)\n",
            "Requirement already satisfied: jax>=0.3.15 in /usr/local/lib/python3.10/dist-packages (from tensorflow) (0.3.25)\n",
            "Requirement already satisfied: keras<2.13,>=2.12.0 in /usr/local/lib/python3.10/dist-packages (from tensorflow) (2.12.0)\n",
            "Requirement already satisfied: libclang>=13.0.0 in /usr/local/lib/python3.10/dist-packages (from tensorflow) (16.0.6)\n",
            "Requirement already satisfied: numpy<1.24,>=1.22 in /usr/local/lib/python3.10/dist-packages (from tensorflow) (1.23.5)\n",
            "Requirement already satisfied: opt-einsum>=2.3.2 in /usr/local/lib/python3.10/dist-packages (from tensorflow) (3.3.0)\n",
            "Requirement already satisfied: packaging in /usr/local/lib/python3.10/dist-packages (from tensorflow) (23.2)\n",
            "Requirement already satisfied: protobuf!=4.21.0,!=4.21.1,!=4.21.2,!=4.21.3,!=4.21.4,!=4.21.5,<5.0.0dev,>=3.20.3 in /usr/local/lib/python3.10/dist-packages (from tensorflow) (3.20.3)\n",
            "Requirement already satisfied: setuptools in /usr/local/lib/python3.10/dist-packages (from tensorflow) (67.7.2)\n",
            "Requirement already satisfied: six>=1.12.0 in /usr/local/lib/python3.10/dist-packages (from tensorflow) (1.16.0)\n",
            "Requirement already satisfied: tensorboard<2.13,>=2.12 in /usr/local/lib/python3.10/dist-packages (from tensorflow) (2.12.0)\n",
            "Requirement already satisfied: tensorflow-estimator<2.13,>=2.12.0 in /usr/local/lib/python3.10/dist-packages (from tensorflow) (2.12.0)\n",
            "Requirement already satisfied: termcolor>=1.1.0 in /usr/local/lib/python3.10/dist-packages (from tensorflow) (2.3.0)\n",
            "Requirement already satisfied: typing-extensions>=3.6.6 in /usr/local/lib/python3.10/dist-packages (from tensorflow) (4.5.0)\n",
            "Requirement already satisfied: wrapt<1.15,>=1.11.0 in /usr/local/lib/python3.10/dist-packages (from tensorflow) (1.14.1)\n",
            "Requirement already satisfied: tensorflow-io-gcs-filesystem>=0.23.1 in /usr/local/lib/python3.10/dist-packages (from tensorflow) (0.34.0)\n",
            "Requirement already satisfied: wheel<1.0,>=0.23.0 in /usr/local/lib/python3.10/dist-packages (from astunparse>=1.6.0->tensorflow) (0.41.2)\n",
            "Requirement already satisfied: scipy>=1.5 in /usr/local/lib/python3.10/dist-packages (from jax>=0.3.15->tensorflow) (1.11.3)\n",
            "Requirement already satisfied: google-auth<3,>=1.6.3 in /usr/local/lib/python3.10/dist-packages (from tensorboard<2.13,>=2.12->tensorflow) (2.17.3)\n",
            "Requirement already satisfied: google-auth-oauthlib<0.5,>=0.4.1 in /usr/local/lib/python3.10/dist-packages (from tensorboard<2.13,>=2.12->tensorflow) (0.4.6)\n",
            "Requirement already satisfied: markdown>=2.6.8 in /usr/local/lib/python3.10/dist-packages (from tensorboard<2.13,>=2.12->tensorflow) (3.5)\n",
            "Requirement already satisfied: requests<3,>=2.21.0 in /usr/local/lib/python3.10/dist-packages (from tensorboard<2.13,>=2.12->tensorflow) (2.31.0)\n",
            "Requirement already satisfied: tensorboard-data-server<0.8.0,>=0.7.0 in /usr/local/lib/python3.10/dist-packages (from tensorboard<2.13,>=2.12->tensorflow) (0.7.2)\n",
            "Requirement already satisfied: tensorboard-plugin-wit>=1.6.0 in /usr/local/lib/python3.10/dist-packages (from tensorboard<2.13,>=2.12->tensorflow) (1.8.1)\n",
            "Requirement already satisfied: werkzeug>=1.0.1 in /usr/local/lib/python3.10/dist-packages (from tensorboard<2.13,>=2.12->tensorflow) (3.0.1)\n",
            "Requirement already satisfied: cachetools<6.0,>=2.0.0 in /usr/local/lib/python3.10/dist-packages (from google-auth<3,>=1.6.3->tensorboard<2.13,>=2.12->tensorflow) (5.3.2)\n",
            "Requirement already satisfied: pyasn1-modules>=0.2.1 in /usr/local/lib/python3.10/dist-packages (from google-auth<3,>=1.6.3->tensorboard<2.13,>=2.12->tensorflow) (0.3.0)\n",
            "Requirement already satisfied: rsa<5,>=3.1.4 in /usr/local/lib/python3.10/dist-packages (from google-auth<3,>=1.6.3->tensorboard<2.13,>=2.12->tensorflow) (4.9)\n",
            "Requirement already satisfied: requests-oauthlib>=0.7.0 in /usr/local/lib/python3.10/dist-packages (from google-auth-oauthlib<0.5,>=0.4.1->tensorboard<2.13,>=2.12->tensorflow) (1.3.1)\n",
            "Requirement already satisfied: charset-normalizer<4,>=2 in /usr/local/lib/python3.10/dist-packages (from requests<3,>=2.21.0->tensorboard<2.13,>=2.12->tensorflow) (3.3.1)\n",
            "Requirement already satisfied: idna<4,>=2.5 in /usr/local/lib/python3.10/dist-packages (from requests<3,>=2.21.0->tensorboard<2.13,>=2.12->tensorflow) (3.4)\n",
            "Requirement already satisfied: urllib3<3,>=1.21.1 in /usr/local/lib/python3.10/dist-packages (from requests<3,>=2.21.0->tensorboard<2.13,>=2.12->tensorflow) (2.0.7)\n",
            "Requirement already satisfied: certifi>=2017.4.17 in /usr/local/lib/python3.10/dist-packages (from requests<3,>=2.21.0->tensorboard<2.13,>=2.12->tensorflow) (2023.7.22)\n",
            "Requirement already satisfied: MarkupSafe>=2.1.1 in /usr/local/lib/python3.10/dist-packages (from werkzeug>=1.0.1->tensorboard<2.13,>=2.12->tensorflow) (2.1.3)\n",
            "Requirement already satisfied: pyasn1<0.6.0,>=0.4.6 in /usr/local/lib/python3.10/dist-packages (from pyasn1-modules>=0.2.1->google-auth<3,>=1.6.3->tensorboard<2.13,>=2.12->tensorflow) (0.5.0)\n",
            "Requirement already satisfied: oauthlib>=3.0.0 in /usr/local/lib/python3.10/dist-packages (from requests-oauthlib>=0.7.0->google-auth-oauthlib<0.5,>=0.4.1->tensorboard<2.13,>=2.12->tensorflow) (3.2.2)\n"
          ]
        }
      ]
    },
    {
      "cell_type": "code",
      "source": [
        "# import libraries\n",
        "import pandas as pd\n",
        "from wordcloud import WordCloud, STOPWORDS\n",
        "import matplotlib.pyplot as plt\n",
        "from sklearn.feature_extraction.text import CountVectorizer\n",
        "import spacy\n",
        "import torch\n",
        "import tensorflow as tf"
      ],
      "metadata": {
        "id": "jXl4DTV_meMZ"
      },
      "execution_count": 3,
      "outputs": []
    },
    {
      "cell_type": "markdown",
      "source": [
        "# Import Data"
      ],
      "metadata": {
        "id": "eyqv22B3mhSz"
      }
    },
    {
      "cell_type": "markdown",
      "source": [
        "## Single Label"
      ],
      "metadata": {
        "id": "XAFNwX7DVcOY"
      }
    },
    {
      "cell_type": "code",
      "source": [
        "s_url = \"https://raw.githubusercontent.com/glazar01/lyric-pulse-sentiment-analysis/main/data/SingleLabel.csv\"\n",
        "s_data = pd.read_csv(s_url)"
      ],
      "metadata": {
        "id": "ZJliM9jamguD"
      },
      "execution_count": 4,
      "outputs": []
    },
    {
      "cell_type": "code",
      "source": [
        "s_data.head()"
      ],
      "metadata": {
        "colab": {
          "base_uri": "https://localhost:8080/",
          "height": 206
        },
        "id": "yG7i_Zo4mk4f",
        "outputId": "1a909f58-c2c8-4309-fdf3-3f498e78a133"
      },
      "execution_count": 5,
      "outputs": [
        {
          "output_type": "execute_result",
          "data": {
            "text/plain": [
              "           artist    genre                  title                    album  \\\n",
              "0         Nirvana     Rock  You Know You’re Right                  Nirvana   \n",
              "1   Damian Marley   Reggae             Here We Go               Stony Hill   \n",
              "2  The Mission UK     Rock                   Jade  Another Fall from Grace   \n",
              "3            UB40   Reggae       Food For Thought              Signing Off   \n",
              "4     Johnny Cash  Country   I’ve Been Everywhere   American II: Unchained   \n",
              "\n",
              "     year                                             lyrics       label  \n",
              "0  2002.0  I will never bother you\\nI will never promise ...     Sadness  \n",
              "1  2017.0  Here we go\\nMy big ego is gonna get me in trou...     Tension  \n",
              "2  2016.0  She came as Lolita dressed as Venus\\nAnd adorn...  Tenderness  \n",
              "3  1980.0  Ivory Madonna, dying in the dust\\nWaiting for ...     Sadness  \n",
              "4  1996.0  I was totin' my pack along the dusty Winnemucc...     Sadness  "
            ],
            "text/html": [
              "\n",
              "  <div id=\"df-0aacb952-0bda-4ccf-8e22-51e7b921df29\" class=\"colab-df-container\">\n",
              "    <div>\n",
              "<style scoped>\n",
              "    .dataframe tbody tr th:only-of-type {\n",
              "        vertical-align: middle;\n",
              "    }\n",
              "\n",
              "    .dataframe tbody tr th {\n",
              "        vertical-align: top;\n",
              "    }\n",
              "\n",
              "    .dataframe thead th {\n",
              "        text-align: right;\n",
              "    }\n",
              "</style>\n",
              "<table border=\"1\" class=\"dataframe\">\n",
              "  <thead>\n",
              "    <tr style=\"text-align: right;\">\n",
              "      <th></th>\n",
              "      <th>artist</th>\n",
              "      <th>genre</th>\n",
              "      <th>title</th>\n",
              "      <th>album</th>\n",
              "      <th>year</th>\n",
              "      <th>lyrics</th>\n",
              "      <th>label</th>\n",
              "    </tr>\n",
              "  </thead>\n",
              "  <tbody>\n",
              "    <tr>\n",
              "      <th>0</th>\n",
              "      <td>Nirvana</td>\n",
              "      <td>Rock</td>\n",
              "      <td>You Know You’re Right</td>\n",
              "      <td>Nirvana</td>\n",
              "      <td>2002.0</td>\n",
              "      <td>I will never bother you\\nI will never promise ...</td>\n",
              "      <td>Sadness</td>\n",
              "    </tr>\n",
              "    <tr>\n",
              "      <th>1</th>\n",
              "      <td>Damian Marley</td>\n",
              "      <td>Reggae</td>\n",
              "      <td>Here We Go</td>\n",
              "      <td>Stony Hill</td>\n",
              "      <td>2017.0</td>\n",
              "      <td>Here we go\\nMy big ego is gonna get me in trou...</td>\n",
              "      <td>Tension</td>\n",
              "    </tr>\n",
              "    <tr>\n",
              "      <th>2</th>\n",
              "      <td>The Mission UK</td>\n",
              "      <td>Rock</td>\n",
              "      <td>Jade</td>\n",
              "      <td>Another Fall from Grace</td>\n",
              "      <td>2016.0</td>\n",
              "      <td>She came as Lolita dressed as Venus\\nAnd adorn...</td>\n",
              "      <td>Tenderness</td>\n",
              "    </tr>\n",
              "    <tr>\n",
              "      <th>3</th>\n",
              "      <td>UB40</td>\n",
              "      <td>Reggae</td>\n",
              "      <td>Food For Thought</td>\n",
              "      <td>Signing Off</td>\n",
              "      <td>1980.0</td>\n",
              "      <td>Ivory Madonna, dying in the dust\\nWaiting for ...</td>\n",
              "      <td>Sadness</td>\n",
              "    </tr>\n",
              "    <tr>\n",
              "      <th>4</th>\n",
              "      <td>Johnny Cash</td>\n",
              "      <td>Country</td>\n",
              "      <td>I’ve Been Everywhere</td>\n",
              "      <td>American II: Unchained</td>\n",
              "      <td>1996.0</td>\n",
              "      <td>I was totin' my pack along the dusty Winnemucc...</td>\n",
              "      <td>Sadness</td>\n",
              "    </tr>\n",
              "  </tbody>\n",
              "</table>\n",
              "</div>\n",
              "    <div class=\"colab-df-buttons\">\n",
              "\n",
              "  <div class=\"colab-df-container\">\n",
              "    <button class=\"colab-df-convert\" onclick=\"convertToInteractive('df-0aacb952-0bda-4ccf-8e22-51e7b921df29')\"\n",
              "            title=\"Convert this dataframe to an interactive table.\"\n",
              "            style=\"display:none;\">\n",
              "\n",
              "  <svg xmlns=\"http://www.w3.org/2000/svg\" height=\"24px\" viewBox=\"0 -960 960 960\">\n",
              "    <path d=\"M120-120v-720h720v720H120Zm60-500h600v-160H180v160Zm220 220h160v-160H400v160Zm0 220h160v-160H400v160ZM180-400h160v-160H180v160Zm440 0h160v-160H620v160ZM180-180h160v-160H180v160Zm440 0h160v-160H620v160Z\"/>\n",
              "  </svg>\n",
              "    </button>\n",
              "\n",
              "  <style>\n",
              "    .colab-df-container {\n",
              "      display:flex;\n",
              "      gap: 12px;\n",
              "    }\n",
              "\n",
              "    .colab-df-convert {\n",
              "      background-color: #E8F0FE;\n",
              "      border: none;\n",
              "      border-radius: 50%;\n",
              "      cursor: pointer;\n",
              "      display: none;\n",
              "      fill: #1967D2;\n",
              "      height: 32px;\n",
              "      padding: 0 0 0 0;\n",
              "      width: 32px;\n",
              "    }\n",
              "\n",
              "    .colab-df-convert:hover {\n",
              "      background-color: #E2EBFA;\n",
              "      box-shadow: 0px 1px 2px rgba(60, 64, 67, 0.3), 0px 1px 3px 1px rgba(60, 64, 67, 0.15);\n",
              "      fill: #174EA6;\n",
              "    }\n",
              "\n",
              "    .colab-df-buttons div {\n",
              "      margin-bottom: 4px;\n",
              "    }\n",
              "\n",
              "    [theme=dark] .colab-df-convert {\n",
              "      background-color: #3B4455;\n",
              "      fill: #D2E3FC;\n",
              "    }\n",
              "\n",
              "    [theme=dark] .colab-df-convert:hover {\n",
              "      background-color: #434B5C;\n",
              "      box-shadow: 0px 1px 3px 1px rgba(0, 0, 0, 0.15);\n",
              "      filter: drop-shadow(0px 1px 2px rgba(0, 0, 0, 0.3));\n",
              "      fill: #FFFFFF;\n",
              "    }\n",
              "  </style>\n",
              "\n",
              "    <script>\n",
              "      const buttonEl =\n",
              "        document.querySelector('#df-0aacb952-0bda-4ccf-8e22-51e7b921df29 button.colab-df-convert');\n",
              "      buttonEl.style.display =\n",
              "        google.colab.kernel.accessAllowed ? 'block' : 'none';\n",
              "\n",
              "      async function convertToInteractive(key) {\n",
              "        const element = document.querySelector('#df-0aacb952-0bda-4ccf-8e22-51e7b921df29');\n",
              "        const dataTable =\n",
              "          await google.colab.kernel.invokeFunction('convertToInteractive',\n",
              "                                                    [key], {});\n",
              "        if (!dataTable) return;\n",
              "\n",
              "        const docLinkHtml = 'Like what you see? Visit the ' +\n",
              "          '<a target=\"_blank\" href=https://colab.research.google.com/notebooks/data_table.ipynb>data table notebook</a>'\n",
              "          + ' to learn more about interactive tables.';\n",
              "        element.innerHTML = '';\n",
              "        dataTable['output_type'] = 'display_data';\n",
              "        await google.colab.output.renderOutput(dataTable, element);\n",
              "        const docLink = document.createElement('div');\n",
              "        docLink.innerHTML = docLinkHtml;\n",
              "        element.appendChild(docLink);\n",
              "      }\n",
              "    </script>\n",
              "  </div>\n",
              "\n",
              "\n",
              "<div id=\"df-aa1cfbeb-b1f1-4293-a207-052c7b5cd9ac\">\n",
              "  <button class=\"colab-df-quickchart\" onclick=\"quickchart('df-aa1cfbeb-b1f1-4293-a207-052c7b5cd9ac')\"\n",
              "            title=\"Suggest charts.\"\n",
              "            style=\"display:none;\">\n",
              "\n",
              "<svg xmlns=\"http://www.w3.org/2000/svg\" height=\"24px\"viewBox=\"0 0 24 24\"\n",
              "     width=\"24px\">\n",
              "    <g>\n",
              "        <path d=\"M19 3H5c-1.1 0-2 .9-2 2v14c0 1.1.9 2 2 2h14c1.1 0 2-.9 2-2V5c0-1.1-.9-2-2-2zM9 17H7v-7h2v7zm4 0h-2V7h2v10zm4 0h-2v-4h2v4z\"/>\n",
              "    </g>\n",
              "</svg>\n",
              "  </button>\n",
              "\n",
              "<style>\n",
              "  .colab-df-quickchart {\n",
              "      --bg-color: #E8F0FE;\n",
              "      --fill-color: #1967D2;\n",
              "      --hover-bg-color: #E2EBFA;\n",
              "      --hover-fill-color: #174EA6;\n",
              "      --disabled-fill-color: #AAA;\n",
              "      --disabled-bg-color: #DDD;\n",
              "  }\n",
              "\n",
              "  [theme=dark] .colab-df-quickchart {\n",
              "      --bg-color: #3B4455;\n",
              "      --fill-color: #D2E3FC;\n",
              "      --hover-bg-color: #434B5C;\n",
              "      --hover-fill-color: #FFFFFF;\n",
              "      --disabled-bg-color: #3B4455;\n",
              "      --disabled-fill-color: #666;\n",
              "  }\n",
              "\n",
              "  .colab-df-quickchart {\n",
              "    background-color: var(--bg-color);\n",
              "    border: none;\n",
              "    border-radius: 50%;\n",
              "    cursor: pointer;\n",
              "    display: none;\n",
              "    fill: var(--fill-color);\n",
              "    height: 32px;\n",
              "    padding: 0;\n",
              "    width: 32px;\n",
              "  }\n",
              "\n",
              "  .colab-df-quickchart:hover {\n",
              "    background-color: var(--hover-bg-color);\n",
              "    box-shadow: 0 1px 2px rgba(60, 64, 67, 0.3), 0 1px 3px 1px rgba(60, 64, 67, 0.15);\n",
              "    fill: var(--button-hover-fill-color);\n",
              "  }\n",
              "\n",
              "  .colab-df-quickchart-complete:disabled,\n",
              "  .colab-df-quickchart-complete:disabled:hover {\n",
              "    background-color: var(--disabled-bg-color);\n",
              "    fill: var(--disabled-fill-color);\n",
              "    box-shadow: none;\n",
              "  }\n",
              "\n",
              "  .colab-df-spinner {\n",
              "    border: 2px solid var(--fill-color);\n",
              "    border-color: transparent;\n",
              "    border-bottom-color: var(--fill-color);\n",
              "    animation:\n",
              "      spin 1s steps(1) infinite;\n",
              "  }\n",
              "\n",
              "  @keyframes spin {\n",
              "    0% {\n",
              "      border-color: transparent;\n",
              "      border-bottom-color: var(--fill-color);\n",
              "      border-left-color: var(--fill-color);\n",
              "    }\n",
              "    20% {\n",
              "      border-color: transparent;\n",
              "      border-left-color: var(--fill-color);\n",
              "      border-top-color: var(--fill-color);\n",
              "    }\n",
              "    30% {\n",
              "      border-color: transparent;\n",
              "      border-left-color: var(--fill-color);\n",
              "      border-top-color: var(--fill-color);\n",
              "      border-right-color: var(--fill-color);\n",
              "    }\n",
              "    40% {\n",
              "      border-color: transparent;\n",
              "      border-right-color: var(--fill-color);\n",
              "      border-top-color: var(--fill-color);\n",
              "    }\n",
              "    60% {\n",
              "      border-color: transparent;\n",
              "      border-right-color: var(--fill-color);\n",
              "    }\n",
              "    80% {\n",
              "      border-color: transparent;\n",
              "      border-right-color: var(--fill-color);\n",
              "      border-bottom-color: var(--fill-color);\n",
              "    }\n",
              "    90% {\n",
              "      border-color: transparent;\n",
              "      border-bottom-color: var(--fill-color);\n",
              "    }\n",
              "  }\n",
              "</style>\n",
              "\n",
              "  <script>\n",
              "    async function quickchart(key) {\n",
              "      const quickchartButtonEl =\n",
              "        document.querySelector('#' + key + ' button');\n",
              "      quickchartButtonEl.disabled = true;  // To prevent multiple clicks.\n",
              "      quickchartButtonEl.classList.add('colab-df-spinner');\n",
              "      try {\n",
              "        const charts = await google.colab.kernel.invokeFunction(\n",
              "            'suggestCharts', [key], {});\n",
              "      } catch (error) {\n",
              "        console.error('Error during call to suggestCharts:', error);\n",
              "      }\n",
              "      quickchartButtonEl.classList.remove('colab-df-spinner');\n",
              "      quickchartButtonEl.classList.add('colab-df-quickchart-complete');\n",
              "    }\n",
              "    (() => {\n",
              "      let quickchartButtonEl =\n",
              "        document.querySelector('#df-aa1cfbeb-b1f1-4293-a207-052c7b5cd9ac button');\n",
              "      quickchartButtonEl.style.display =\n",
              "        google.colab.kernel.accessAllowed ? 'block' : 'none';\n",
              "    })();\n",
              "  </script>\n",
              "</div>\n",
              "    </div>\n",
              "  </div>\n"
            ]
          },
          "metadata": {},
          "execution_count": 5
        }
      ]
    },
    {
      "cell_type": "markdown",
      "source": [
        "## Multi Label"
      ],
      "metadata": {
        "id": "3mMkJf2lWM78"
      }
    },
    {
      "cell_type": "code",
      "source": [
        "m_url = \"https://raw.githubusercontent.com/glazar01/lyric-pulse-sentiment-analysis/main/data/MultiLabel.csv\"\n",
        "m_data = pd.read_csv(m_url)"
      ],
      "metadata": {
        "id": "WN10zCUEWbGd"
      },
      "execution_count": 6,
      "outputs": []
    },
    {
      "cell_type": "code",
      "source": [
        "m_data.head()"
      ],
      "metadata": {
        "colab": {
          "base_uri": "https://localhost:8080/",
          "height": 206
        },
        "outputId": "2c335909-c7b9-4bfc-f782-c64b34251254",
        "id": "gaqflLYKWbGe"
      },
      "execution_count": 7,
      "outputs": [
        {
          "output_type": "execute_result",
          "data": {
            "text/plain": [
              "           artist    genre                  title                    album  \\\n",
              "0         Nirvana     Rock  You Know You’re Right                  Nirvana   \n",
              "1   Damian Marley   Reggae             Here We Go               Stony Hill   \n",
              "2  The Mission UK     Rock                   Jade  Another Fall from Grace   \n",
              "3            UB40   Reggae       Food For Thought              Signing Off   \n",
              "4     Johnny Cash  Country   I’ve Been Everywhere   American II: Unchained   \n",
              "\n",
              "     year                                             lyrics  \\\n",
              "0  2002.0  I will never bother you\\nI will never promise ...   \n",
              "1  2017.0  Here we go\\nMy big ego is gonna get me in trou...   \n",
              "2  2016.0  She came as Lolita dressed as Venus\\nAnd adorn...   \n",
              "3  1980.0  Ivory Madonna, dying in the dust\\nWaiting for ...   \n",
              "4  1996.0  I was totin' my pack along the dusty Winnemucc...   \n",
              "\n",
              "                                       labels  \n",
              "0                           Calmness, Sadness  \n",
              "1                              Power, Tension  \n",
              "2  Amazement, Calmness, Solemnity, Tenderness  \n",
              "3         Joyful activation, Sadness, Tension  \n",
              "4      Amazement, Calmness, Joyful activation  "
            ],
            "text/html": [
              "\n",
              "  <div id=\"df-12741b89-5352-4c5a-8871-bc0773e627a7\" class=\"colab-df-container\">\n",
              "    <div>\n",
              "<style scoped>\n",
              "    .dataframe tbody tr th:only-of-type {\n",
              "        vertical-align: middle;\n",
              "    }\n",
              "\n",
              "    .dataframe tbody tr th {\n",
              "        vertical-align: top;\n",
              "    }\n",
              "\n",
              "    .dataframe thead th {\n",
              "        text-align: right;\n",
              "    }\n",
              "</style>\n",
              "<table border=\"1\" class=\"dataframe\">\n",
              "  <thead>\n",
              "    <tr style=\"text-align: right;\">\n",
              "      <th></th>\n",
              "      <th>artist</th>\n",
              "      <th>genre</th>\n",
              "      <th>title</th>\n",
              "      <th>album</th>\n",
              "      <th>year</th>\n",
              "      <th>lyrics</th>\n",
              "      <th>labels</th>\n",
              "    </tr>\n",
              "  </thead>\n",
              "  <tbody>\n",
              "    <tr>\n",
              "      <th>0</th>\n",
              "      <td>Nirvana</td>\n",
              "      <td>Rock</td>\n",
              "      <td>You Know You’re Right</td>\n",
              "      <td>Nirvana</td>\n",
              "      <td>2002.0</td>\n",
              "      <td>I will never bother you\\nI will never promise ...</td>\n",
              "      <td>Calmness, Sadness</td>\n",
              "    </tr>\n",
              "    <tr>\n",
              "      <th>1</th>\n",
              "      <td>Damian Marley</td>\n",
              "      <td>Reggae</td>\n",
              "      <td>Here We Go</td>\n",
              "      <td>Stony Hill</td>\n",
              "      <td>2017.0</td>\n",
              "      <td>Here we go\\nMy big ego is gonna get me in trou...</td>\n",
              "      <td>Power, Tension</td>\n",
              "    </tr>\n",
              "    <tr>\n",
              "      <th>2</th>\n",
              "      <td>The Mission UK</td>\n",
              "      <td>Rock</td>\n",
              "      <td>Jade</td>\n",
              "      <td>Another Fall from Grace</td>\n",
              "      <td>2016.0</td>\n",
              "      <td>She came as Lolita dressed as Venus\\nAnd adorn...</td>\n",
              "      <td>Amazement, Calmness, Solemnity, Tenderness</td>\n",
              "    </tr>\n",
              "    <tr>\n",
              "      <th>3</th>\n",
              "      <td>UB40</td>\n",
              "      <td>Reggae</td>\n",
              "      <td>Food For Thought</td>\n",
              "      <td>Signing Off</td>\n",
              "      <td>1980.0</td>\n",
              "      <td>Ivory Madonna, dying in the dust\\nWaiting for ...</td>\n",
              "      <td>Joyful activation, Sadness, Tension</td>\n",
              "    </tr>\n",
              "    <tr>\n",
              "      <th>4</th>\n",
              "      <td>Johnny Cash</td>\n",
              "      <td>Country</td>\n",
              "      <td>I’ve Been Everywhere</td>\n",
              "      <td>American II: Unchained</td>\n",
              "      <td>1996.0</td>\n",
              "      <td>I was totin' my pack along the dusty Winnemucc...</td>\n",
              "      <td>Amazement, Calmness, Joyful activation</td>\n",
              "    </tr>\n",
              "  </tbody>\n",
              "</table>\n",
              "</div>\n",
              "    <div class=\"colab-df-buttons\">\n",
              "\n",
              "  <div class=\"colab-df-container\">\n",
              "    <button class=\"colab-df-convert\" onclick=\"convertToInteractive('df-12741b89-5352-4c5a-8871-bc0773e627a7')\"\n",
              "            title=\"Convert this dataframe to an interactive table.\"\n",
              "            style=\"display:none;\">\n",
              "\n",
              "  <svg xmlns=\"http://www.w3.org/2000/svg\" height=\"24px\" viewBox=\"0 -960 960 960\">\n",
              "    <path d=\"M120-120v-720h720v720H120Zm60-500h600v-160H180v160Zm220 220h160v-160H400v160Zm0 220h160v-160H400v160ZM180-400h160v-160H180v160Zm440 0h160v-160H620v160ZM180-180h160v-160H180v160Zm440 0h160v-160H620v160Z\"/>\n",
              "  </svg>\n",
              "    </button>\n",
              "\n",
              "  <style>\n",
              "    .colab-df-container {\n",
              "      display:flex;\n",
              "      gap: 12px;\n",
              "    }\n",
              "\n",
              "    .colab-df-convert {\n",
              "      background-color: #E8F0FE;\n",
              "      border: none;\n",
              "      border-radius: 50%;\n",
              "      cursor: pointer;\n",
              "      display: none;\n",
              "      fill: #1967D2;\n",
              "      height: 32px;\n",
              "      padding: 0 0 0 0;\n",
              "      width: 32px;\n",
              "    }\n",
              "\n",
              "    .colab-df-convert:hover {\n",
              "      background-color: #E2EBFA;\n",
              "      box-shadow: 0px 1px 2px rgba(60, 64, 67, 0.3), 0px 1px 3px 1px rgba(60, 64, 67, 0.15);\n",
              "      fill: #174EA6;\n",
              "    }\n",
              "\n",
              "    .colab-df-buttons div {\n",
              "      margin-bottom: 4px;\n",
              "    }\n",
              "\n",
              "    [theme=dark] .colab-df-convert {\n",
              "      background-color: #3B4455;\n",
              "      fill: #D2E3FC;\n",
              "    }\n",
              "\n",
              "    [theme=dark] .colab-df-convert:hover {\n",
              "      background-color: #434B5C;\n",
              "      box-shadow: 0px 1px 3px 1px rgba(0, 0, 0, 0.15);\n",
              "      filter: drop-shadow(0px 1px 2px rgba(0, 0, 0, 0.3));\n",
              "      fill: #FFFFFF;\n",
              "    }\n",
              "  </style>\n",
              "\n",
              "    <script>\n",
              "      const buttonEl =\n",
              "        document.querySelector('#df-12741b89-5352-4c5a-8871-bc0773e627a7 button.colab-df-convert');\n",
              "      buttonEl.style.display =\n",
              "        google.colab.kernel.accessAllowed ? 'block' : 'none';\n",
              "\n",
              "      async function convertToInteractive(key) {\n",
              "        const element = document.querySelector('#df-12741b89-5352-4c5a-8871-bc0773e627a7');\n",
              "        const dataTable =\n",
              "          await google.colab.kernel.invokeFunction('convertToInteractive',\n",
              "                                                    [key], {});\n",
              "        if (!dataTable) return;\n",
              "\n",
              "        const docLinkHtml = 'Like what you see? Visit the ' +\n",
              "          '<a target=\"_blank\" href=https://colab.research.google.com/notebooks/data_table.ipynb>data table notebook</a>'\n",
              "          + ' to learn more about interactive tables.';\n",
              "        element.innerHTML = '';\n",
              "        dataTable['output_type'] = 'display_data';\n",
              "        await google.colab.output.renderOutput(dataTable, element);\n",
              "        const docLink = document.createElement('div');\n",
              "        docLink.innerHTML = docLinkHtml;\n",
              "        element.appendChild(docLink);\n",
              "      }\n",
              "    </script>\n",
              "  </div>\n",
              "\n",
              "\n",
              "<div id=\"df-63054d2a-ba15-4e0b-afda-e665d336188b\">\n",
              "  <button class=\"colab-df-quickchart\" onclick=\"quickchart('df-63054d2a-ba15-4e0b-afda-e665d336188b')\"\n",
              "            title=\"Suggest charts.\"\n",
              "            style=\"display:none;\">\n",
              "\n",
              "<svg xmlns=\"http://www.w3.org/2000/svg\" height=\"24px\"viewBox=\"0 0 24 24\"\n",
              "     width=\"24px\">\n",
              "    <g>\n",
              "        <path d=\"M19 3H5c-1.1 0-2 .9-2 2v14c0 1.1.9 2 2 2h14c1.1 0 2-.9 2-2V5c0-1.1-.9-2-2-2zM9 17H7v-7h2v7zm4 0h-2V7h2v10zm4 0h-2v-4h2v4z\"/>\n",
              "    </g>\n",
              "</svg>\n",
              "  </button>\n",
              "\n",
              "<style>\n",
              "  .colab-df-quickchart {\n",
              "      --bg-color: #E8F0FE;\n",
              "      --fill-color: #1967D2;\n",
              "      --hover-bg-color: #E2EBFA;\n",
              "      --hover-fill-color: #174EA6;\n",
              "      --disabled-fill-color: #AAA;\n",
              "      --disabled-bg-color: #DDD;\n",
              "  }\n",
              "\n",
              "  [theme=dark] .colab-df-quickchart {\n",
              "      --bg-color: #3B4455;\n",
              "      --fill-color: #D2E3FC;\n",
              "      --hover-bg-color: #434B5C;\n",
              "      --hover-fill-color: #FFFFFF;\n",
              "      --disabled-bg-color: #3B4455;\n",
              "      --disabled-fill-color: #666;\n",
              "  }\n",
              "\n",
              "  .colab-df-quickchart {\n",
              "    background-color: var(--bg-color);\n",
              "    border: none;\n",
              "    border-radius: 50%;\n",
              "    cursor: pointer;\n",
              "    display: none;\n",
              "    fill: var(--fill-color);\n",
              "    height: 32px;\n",
              "    padding: 0;\n",
              "    width: 32px;\n",
              "  }\n",
              "\n",
              "  .colab-df-quickchart:hover {\n",
              "    background-color: var(--hover-bg-color);\n",
              "    box-shadow: 0 1px 2px rgba(60, 64, 67, 0.3), 0 1px 3px 1px rgba(60, 64, 67, 0.15);\n",
              "    fill: var(--button-hover-fill-color);\n",
              "  }\n",
              "\n",
              "  .colab-df-quickchart-complete:disabled,\n",
              "  .colab-df-quickchart-complete:disabled:hover {\n",
              "    background-color: var(--disabled-bg-color);\n",
              "    fill: var(--disabled-fill-color);\n",
              "    box-shadow: none;\n",
              "  }\n",
              "\n",
              "  .colab-df-spinner {\n",
              "    border: 2px solid var(--fill-color);\n",
              "    border-color: transparent;\n",
              "    border-bottom-color: var(--fill-color);\n",
              "    animation:\n",
              "      spin 1s steps(1) infinite;\n",
              "  }\n",
              "\n",
              "  @keyframes spin {\n",
              "    0% {\n",
              "      border-color: transparent;\n",
              "      border-bottom-color: var(--fill-color);\n",
              "      border-left-color: var(--fill-color);\n",
              "    }\n",
              "    20% {\n",
              "      border-color: transparent;\n",
              "      border-left-color: var(--fill-color);\n",
              "      border-top-color: var(--fill-color);\n",
              "    }\n",
              "    30% {\n",
              "      border-color: transparent;\n",
              "      border-left-color: var(--fill-color);\n",
              "      border-top-color: var(--fill-color);\n",
              "      border-right-color: var(--fill-color);\n",
              "    }\n",
              "    40% {\n",
              "      border-color: transparent;\n",
              "      border-right-color: var(--fill-color);\n",
              "      border-top-color: var(--fill-color);\n",
              "    }\n",
              "    60% {\n",
              "      border-color: transparent;\n",
              "      border-right-color: var(--fill-color);\n",
              "    }\n",
              "    80% {\n",
              "      border-color: transparent;\n",
              "      border-right-color: var(--fill-color);\n",
              "      border-bottom-color: var(--fill-color);\n",
              "    }\n",
              "    90% {\n",
              "      border-color: transparent;\n",
              "      border-bottom-color: var(--fill-color);\n",
              "    }\n",
              "  }\n",
              "</style>\n",
              "\n",
              "  <script>\n",
              "    async function quickchart(key) {\n",
              "      const quickchartButtonEl =\n",
              "        document.querySelector('#' + key + ' button');\n",
              "      quickchartButtonEl.disabled = true;  // To prevent multiple clicks.\n",
              "      quickchartButtonEl.classList.add('colab-df-spinner');\n",
              "      try {\n",
              "        const charts = await google.colab.kernel.invokeFunction(\n",
              "            'suggestCharts', [key], {});\n",
              "      } catch (error) {\n",
              "        console.error('Error during call to suggestCharts:', error);\n",
              "      }\n",
              "      quickchartButtonEl.classList.remove('colab-df-spinner');\n",
              "      quickchartButtonEl.classList.add('colab-df-quickchart-complete');\n",
              "    }\n",
              "    (() => {\n",
              "      let quickchartButtonEl =\n",
              "        document.querySelector('#df-63054d2a-ba15-4e0b-afda-e665d336188b button');\n",
              "      quickchartButtonEl.style.display =\n",
              "        google.colab.kernel.accessAllowed ? 'block' : 'none';\n",
              "    })();\n",
              "  </script>\n",
              "</div>\n",
              "    </div>\n",
              "  </div>\n"
            ]
          },
          "metadata": {},
          "execution_count": 7
        }
      ]
    },
    {
      "cell_type": "markdown",
      "source": [
        "# Useful Functions"
      ],
      "metadata": {
        "id": "k_rX28j8ZbGK"
      }
    },
    {
      "cell_type": "markdown",
      "source": [
        "1. Sentence segmentation"
      ],
      "metadata": {
        "id": "DP4Za3Ulg409"
      }
    },
    {
      "cell_type": "code",
      "source": [
        "''' Segmentation in sentences for lyrics, removal of empty or duplicated sentences '''\n",
        "def process_lyrics(text_data):\n",
        "    def process_text(text):\n",
        "        unique_sentences = set()\n",
        "        processed_text = []\n",
        "\n",
        "        for sentence in text.split('\\n'):\n",
        "            sentence_text = sentence.strip()\n",
        "            if sentence_text and sentence_text not in unique_sentences:\n",
        "                unique_sentences.add(sentence_text)\n",
        "                processed_text.append(sentence_text)\n",
        "\n",
        "        return processed_text\n",
        "\n",
        "    processed_data = [process_text(row) for row in text_data]\n",
        "    return processed_data"
      ],
      "metadata": {
        "id": "3MfVDtLxavvl"
      },
      "execution_count": 33,
      "outputs": []
    },
    {
      "cell_type": "code",
      "source": [
        "# Before sentence segmentation\n",
        "s_data['lyrics'][0]"
      ],
      "metadata": {
        "id": "e_wsLj6Eg2cQ",
        "outputId": "4d020708-d4c9-4006-a8d9-c82230f04306",
        "colab": {
          "base_uri": "https://localhost:8080/",
          "height": 143
        }
      },
      "execution_count": 44,
      "outputs": [
        {
          "output_type": "execute_result",
          "data": {
            "text/plain": [
              "\"I will never bother you\\nI will never promise to\\nI will never follow you\\nI will never bother you\\nNever speak a word again\\nI will crawl away for good\\nI will move away from here\\nYou won't be afraid of fear\\nNo thought was put into this\\nAnd always knew it would come to this\\nThings have never been so swell\\nI have never failed to fail\\n\\nHe-eee-eee-eeey\\nHe-eee-eee-eey\\nHe-eee-eee-ey\\nYou know you're right\\nYou know you're right\\nYou know you're right\\n\\nI'm so warm and calm inside\\nI no longer have to hide\\nLet's talk about someone else\\nSteaming soup against her mouth\\nNothing really bothers her\\nShe just wants to love himself\\nI will move away from here\\nYou won't be afraid of fear\\nNo thought was put into this\\nAlways knew it'd come to this\\nThings have never been so swell\\nI have never failed to fail\\n\\nHe-eee-eee-eey\\nHe-eee-eee-eey\\nHe-eee-eee-eey\\nHe-eee-eee-eey\\nHe-eee-eee-eey\\nYou know you're right\\nYou know you're right\\nYou know you're right\\nYou know you're right\\nYou know you're right\\nYou know you're right\\nYou know you're right\\nYou know you're right\\nYou know you're right\\nYou know you're right\\nYou know you're right\\nYou know you're right\\nYou know you're right\\nYou know you're right\\n(He-eee-eee-eey)\\nYou know your rights\\n(He-eee-eee-eey)\\nYou know your rights\\n(He-eee-eee-eey)\\nYou know your rights\\n(He-eee-eee-eey)\""
            ],
            "application/vnd.google.colaboratory.intrinsic+json": {
              "type": "string"
            }
          },
          "metadata": {},
          "execution_count": 44
        }
      ]
    },
    {
      "cell_type": "code",
      "source": [
        "processed_lyrics = process_lyrics(s_data['lyrics'])"
      ],
      "metadata": {
        "id": "2NTybbqUa2Ot"
      },
      "execution_count": 41,
      "outputs": []
    },
    {
      "cell_type": "code",
      "source": [
        "# After sentence segmentation\n",
        "processed_lyrics[0]"
      ],
      "metadata": {
        "id": "Ocmd6uNedGUh",
        "outputId": "171477c4-546e-4a2d-ecb3-995eae802b62",
        "colab": {
          "base_uri": "https://localhost:8080/"
        }
      },
      "execution_count": 42,
      "outputs": [
        {
          "output_type": "execute_result",
          "data": {
            "text/plain": [
              "['I will never bother you',\n",
              " 'I will never promise to',\n",
              " 'I will never follow you',\n",
              " 'Never speak a word again',\n",
              " 'I will crawl away for good',\n",
              " 'I will move away from here',\n",
              " \"You won't be afraid of fear\",\n",
              " 'No thought was put into this',\n",
              " 'And always knew it would come to this',\n",
              " 'Things have never been so swell',\n",
              " 'I have never failed to fail',\n",
              " 'He-eee-eee-eeey',\n",
              " 'He-eee-eee-eey',\n",
              " 'He-eee-eee-ey',\n",
              " \"You know you're right\",\n",
              " \"I'm so warm and calm inside\",\n",
              " 'I no longer have to hide',\n",
              " \"Let's talk about someone else\",\n",
              " 'Steaming soup against her mouth',\n",
              " 'Nothing really bothers her',\n",
              " 'She just wants to love himself',\n",
              " \"Always knew it'd come to this\",\n",
              " '(He-eee-eee-eey)',\n",
              " 'You know your rights']"
            ]
          },
          "metadata": {},
          "execution_count": 42
        }
      ]
    },
    {
      "cell_type": "markdown",
      "source": [
        "2. Run the model and get sentiment scores (apply to models 1-3)"
      ],
      "metadata": {
        "id": "wtm9RLQLhKBH"
      }
    },
    {
      "cell_type": "code",
      "source": [
        "''' Runs the model (applying to models 1-3) on given lyrics and model's emotions and returns the sentiment scores'''\n",
        "def get_sentiment_scores_by_sentences(lyrics, model, model_emotions):\n",
        "    aggregated_scores = dict.fromkeys(model_emotions, 0)\n",
        "    num_sentences = len(lyrics)\n",
        "\n",
        "    # Process sentences in batches\n",
        "    for i in range(num_sentences):\n",
        "        sentence = lyrics[i]\n",
        "        results_sentence = model(sentence)\n",
        "\n",
        "        for result in results_sentence:\n",
        "          for res in result:\n",
        "            label = res['label']\n",
        "            score = res['score']\n",
        "            aggregated_scores[label] += score\n",
        "\n",
        "    # Average the scores\n",
        "    for label in aggregated_scores:\n",
        "        aggregated_scores[label] /= num_sentences\n",
        "\n",
        "    return aggregated_scores"
      ],
      "metadata": {
        "id": "N7BM9yNWZeSV"
      },
      "execution_count": 112,
      "outputs": []
    },
    {
      "cell_type": "code",
      "source": [
        "''' Function to run the model 4'''\n",
        "def get_emotion(text, model):\n",
        "  input_ids = tokenizer.encode(text + '</s>', return_tensors='pt')\n",
        "\n",
        "  output = model.generate(input_ids=input_ids,\n",
        "               max_length=2)\n",
        "\n",
        "  dec = [tokenizer.decode(ids) for ids in output]\n",
        "  label = dec[0]\n",
        "  return label"
      ],
      "metadata": {
        "id": "h2_TjZSfFvjy"
      },
      "execution_count": null,
      "outputs": []
    },
    {
      "cell_type": "markdown",
      "source": [
        "4. Find the emotion with the maximum score"
      ],
      "metadata": {
        "id": "_uUNx0lRikIq"
      }
    },
    {
      "cell_type": "code",
      "source": [
        "def find_max_key(sentiment_scores, ignore_key='neutral'):\n",
        "    second_max_keys = []\n",
        "    for lyric_sentiment_scores in sentiment_scores:\n",
        "        sorted_keys = sorted(lyric_sentiment_scores, key=lambda x: lyric_sentiment_scores[x], reverse=True)\n",
        "        if sorted_keys[0] == ignore_key:\n",
        "            # If the first key is 'Neutral' we consider the second key\n",
        "            second_max_keys.append(sorted_keys[1])\n",
        "        else:\n",
        "            second_max_keys.append(sorted_keys[0])\n",
        "    return second_max_keys"
      ],
      "metadata": {
        "id": "RqR4_q19ikSN"
      },
      "execution_count": 47,
      "outputs": []
    },
    {
      "cell_type": "markdown",
      "source": [
        "5. Calculate the accuracy of the model"
      ],
      "metadata": {
        "id": "PUbDniuBRIDn"
      }
    },
    {
      "cell_type": "code",
      "source": [
        "''' Calculate the accuracy of a model. If singleLabel is true then we use the single label data set, otherwise the multi label.'''\n",
        "def calculate_accuracy(original_emotions, predicted_emotions, singleLabel=True):\n",
        "  if singleLabel:\n",
        "    correct_predictions = sum(original == predicted for original, predicted in zip(original_emotions, predicted_emotions))\n",
        "  else:\n",
        "    correct_predictions = sum(predicted in {word.strip() for word in original.split(',')} for original, predicted in zip(original_emotions, predicted_emotions))\n",
        "  return correct_predictions/len(original_emotions)"
      ],
      "metadata": {
        "id": "YhulRXi1RILS"
      },
      "execution_count": 156,
      "outputs": []
    },
    {
      "cell_type": "markdown",
      "source": [
        "# Models"
      ],
      "metadata": {
        "id": "83xjco0fWtBh"
      }
    },
    {
      "cell_type": "code",
      "source": [
        "from transformers import pipeline"
      ],
      "metadata": {
        "id": "omt0vZAhl3od"
      },
      "execution_count": null,
      "outputs": []
    },
    {
      "cell_type": "code",
      "source": [
        "models = []"
      ],
      "metadata": {
        "id": "xCjE9WgjjCaS"
      },
      "execution_count": 115,
      "outputs": []
    },
    {
      "cell_type": "code",
      "source": [
        "model_emotions = {}"
      ],
      "metadata": {
        "id": "4Gh0I5fxjMaX"
      },
      "execution_count": 53,
      "outputs": []
    },
    {
      "cell_type": "code",
      "source": [
        "sentiment_scores = {}"
      ],
      "metadata": {
        "id": "1fLZKiykkucx"
      },
      "execution_count": 59,
      "outputs": []
    },
    {
      "cell_type": "code",
      "source": [
        "dominant_sentiments = {}"
      ],
      "metadata": {
        "id": "aW6XK11rCaB3"
      },
      "execution_count": 148,
      "outputs": []
    },
    {
      "cell_type": "code",
      "source": [
        "emotion_mappings_single_label = {}\n",
        "emotion_mappings_multi_label = {}"
      ],
      "metadata": {
        "id": "oPMVZ02WmnTF"
      },
      "execution_count": 72,
      "outputs": []
    },
    {
      "cell_type": "markdown",
      "source": [
        "## Model 1:"
      ],
      "metadata": {
        "id": "0Feqx6XHWveu"
      }
    },
    {
      "cell_type": "code",
      "source": [
        "models.append(pipeline(task=\"text-classification\", model=\"SamLowe/roberta-base-go_emotions\", top_k=None))"
      ],
      "metadata": {
        "id": "jAkj3Lk5izTm"
      },
      "execution_count": 116,
      "outputs": []
    },
    {
      "cell_type": "code",
      "source": [
        "model_emotions[0] = ['love', 'admiration', 'approval', 'neutral', 'joy', 'optimism', 'gratitude', 'desire', 'annoyance', 'caring', 'disapproval', 'anger', 'realization', 'sadness', 'excitement', 'disappointment', 'amusement', 'confusion', 'disgust', 'curiosity', 'surprise', 'remorse', 'fear', 'nervousness', 'embarrassment', 'grief', 'pride', 'relief']"
      ],
      "metadata": {
        "id": "dFIMqAOa3YOc"
      },
      "execution_count": 54,
      "outputs": []
    },
    {
      "cell_type": "code",
      "source": [
        "test_scores = get_sentiment_scores_by_sentences(processed_lyrics[0], models[0], model_emotions[0])\n",
        "test_scores"
      ],
      "metadata": {
        "id": "C1tYUWQGjeBo",
        "outputId": "eb7fe312-2a83-4674-8507-f75dd255ddcc",
        "colab": {
          "base_uri": "https://localhost:8080/"
        }
      },
      "execution_count": 114,
      "outputs": [
        {
          "output_type": "execute_result",
          "data": {
            "text/plain": [
              "{'love': 0.009968048295074064,\n",
              " 'admiration': 0.013532166432317657,\n",
              " 'approval': 0.08453840087167919,\n",
              " 'neutral': 0.6173456426089009,\n",
              " 'joy': 0.03887427455629222,\n",
              " 'optimism': 0.03178784705232829,\n",
              " 'gratitude': 0.0022090721528608506,\n",
              " 'desire': 0.011329153622985663,\n",
              " 'annoyance': 0.021234943269519135,\n",
              " 'caring': 0.04287284387343485,\n",
              " 'disapproval': 0.05202990907127969,\n",
              " 'anger': 0.008183128569119921,\n",
              " 'realization': 0.03795814326925514,\n",
              " 'sadness': 0.009100369842296155,\n",
              " 'excitement': 0.011620549544507716,\n",
              " 'disappointment': 0.011168352837557904,\n",
              " 'amusement': 0.004524723032470017,\n",
              " 'confusion': 0.0027399567091682306,\n",
              " 'disgust': 0.0024314690842099176,\n",
              " 'curiosity': 0.002558888196896684,\n",
              " 'surprise': 0.012454538523646383,\n",
              " 'remorse': 0.0009703773527386753,\n",
              " 'fear': 0.004743492247750207,\n",
              " 'nervousness': 0.001677743804975762,\n",
              " 'embarrassment': 0.0015005429074032388,\n",
              " 'grief': 0.0009234571783357145,\n",
              " 'pride': 0.0019465359170377876,\n",
              " 'relief': 0.0056654434720257996}"
            ]
          },
          "metadata": {},
          "execution_count": 114
        }
      ]
    },
    {
      "cell_type": "code",
      "source": [
        "emotion_mappings_single_label[0] = {\n",
        "    'love' : 'Tenderness',\n",
        "    'admiration' : 'Tenderness',\n",
        "    'approval' : 'Tenderness',\n",
        "    'joy' : 'Tenderness',\n",
        "    'optimism' : 'Tenderness',\n",
        "    'gratitude' : 'Tenderness',\n",
        "    'desire' : 'Tension',\n",
        "    'annoyance' : 'Tension',\n",
        "    'caring' : 'Tenderness',\n",
        "    'disapproval' : 'Tension',\n",
        "    'anger' : 'Tension',\n",
        "    'realization' : 'Tension',\n",
        "    'sadness' : 'Sadness',\n",
        "    'excitement' : 'Tension',\n",
        "    'disappointment' : 'Sadness',\n",
        "    'amusement' : 'Tenderness',\n",
        "    'confusion' : 'Tension',\n",
        "    'disgust' : 'Tension',\n",
        "    'curiosity' : 'Tension',\n",
        "    'surprise' : 'Tension',\n",
        "    'remorse' : 'Sadness',\n",
        "    'fear' : 'Tension',\n",
        "    'nervousness' : 'Tension',\n",
        "    'embarrassment' : 'Tension',\n",
        "    'grief' : 'Sadness',\n",
        "    'pride' : 'Tenderness',\n",
        "    'relief' : 'Tenderness'\n",
        "}"
      ],
      "metadata": {
        "id": "cDbJcee-nC3U"
      },
      "execution_count": 73,
      "outputs": []
    },
    {
      "cell_type": "markdown",
      "source": [
        "## Model 2:"
      ],
      "metadata": {
        "id": "VCeRyEKYWx9v"
      }
    },
    {
      "cell_type": "code",
      "source": [
        "models.append(pipeline(\"text-classification\", model=\"j-hartmann/emotion-english-distilroberta-base\", return_all_scores=True))"
      ],
      "metadata": {
        "id": "BjZ4-6tKlzcY",
        "outputId": "58153dd8-163b-41e9-c074-0873154b57c2",
        "colab": {
          "base_uri": "https://localhost:8080/"
        }
      },
      "execution_count": 117,
      "outputs": [
        {
          "output_type": "stream",
          "name": "stderr",
          "text": [
            "/usr/local/lib/python3.10/dist-packages/transformers/pipelines/text_classification.py:105: UserWarning: `return_all_scores` is now deprecated,  if want a similar functionality use `top_k=None` instead of `return_all_scores=True` or `top_k=1` instead of `return_all_scores=False`.\n",
            "  warnings.warn(\n"
          ]
        }
      ]
    },
    {
      "cell_type": "code",
      "execution_count": 89,
      "metadata": {
        "id": "xXoQdQJ4mCXK",
        "outputId": "eec675c5-ea44-4508-c03a-d3ea2f2b0fc3",
        "colab": {
          "base_uri": "https://localhost:8080/"
        }
      },
      "outputs": [
        {
          "output_type": "execute_result",
          "data": {
            "text/plain": [
              "{'anger': 0.1198090743952586,\n",
              " 'disgust': 0.11130956945028932,\n",
              " 'fear': 0.0936418952672587,\n",
              " 'joy': 0.14156872494398462,\n",
              " 'neutral': 0.3558837102415661,\n",
              " 'sadness': 0.1331049094927342,\n",
              " 'surprise': 0.04468212039986005}"
            ]
          },
          "metadata": {},
          "execution_count": 89
        }
      ],
      "source": [
        "test_scores = get_sentiment_scores_by_sentences(processed_lyrics[0], models[1], model_emotions[1])\n",
        "test_scores"
      ]
    },
    {
      "cell_type": "code",
      "source": [
        "model_emotions[1] = [\"anger\",\"disgust\",\"fear\",\"joy\",\"neutral\",\"sadness\",\"surprise\"]"
      ],
      "metadata": {
        "id": "glrQxdQ_XggF"
      },
      "execution_count": 64,
      "outputs": []
    },
    {
      "cell_type": "code",
      "source": [
        "emotion_mappings_single_label[1] = {\n",
        "    'anger': 'Tension',\n",
        "    'disgust': 'Tension',\n",
        "    'fear': 'Tension',\n",
        "    'joy': 'Tenderness',\n",
        "    'anger': 'Tension',\n",
        "    'sadness': 'Sadness',\n",
        "    'surprise': 'Tension'\n",
        "}"
      ],
      "metadata": {
        "id": "o5YcS507mvde"
      },
      "execution_count": 74,
      "outputs": []
    },
    {
      "cell_type": "markdown",
      "source": [
        "## Model 3:"
      ],
      "metadata": {
        "id": "_jAUQWaeXKAL"
      }
    },
    {
      "cell_type": "code",
      "source": [
        "models.append(pipeline(\"text-classification\",model='bhadresh-savani/distilbert-base-uncased-emotion', return_all_scores=True))"
      ],
      "metadata": {
        "id": "TTpVDIjTn6on"
      },
      "execution_count": 118,
      "outputs": []
    },
    {
      "cell_type": "code",
      "source": [
        "model_emotions[2] = ['sadness','joy','love','anger','fear','surprise']"
      ],
      "metadata": {
        "id": "Zml6I62qsvyS"
      },
      "execution_count": 93,
      "outputs": []
    },
    {
      "cell_type": "code",
      "source": [
        "emotion_mappings_single_label[2] = {\n",
        "    'sadness': 'Sadness',\n",
        "    'joy': 'Tenderness',\n",
        "    'love': 'Tenderness',\n",
        "    'anger': 'Tension',\n",
        "    'fear': 'Tension',\n",
        "    'surprise': 'Tension'\n",
        "}"
      ],
      "metadata": {
        "id": "cYmf0H3hrbqg"
      },
      "execution_count": 94,
      "outputs": []
    },
    {
      "cell_type": "code",
      "execution_count": 95,
      "metadata": {
        "id": "otHiU5bZn_fd",
        "outputId": "74777278-bc07-428d-e4e6-5fa6f164d0b8",
        "colab": {
          "base_uri": "https://localhost:8080/"
        }
      },
      "outputs": [
        {
          "output_type": "execute_result",
          "data": {
            "text/plain": [
              "{'sadness': 0.1231724840120781,\n",
              " 'joy': 0.29729707747416495,\n",
              " 'love': 0.005218274750707981,\n",
              " 'anger': 0.47074906077493023,\n",
              " 'fear': 0.10181797693924939,\n",
              " 'surprise': 0.0017451177263865247}"
            ]
          },
          "metadata": {},
          "execution_count": 95
        }
      ],
      "source": [
        "test_scores = get_sentiment_scores_by_sentences(processed_lyrics[0], models[2], model_emotions[2])\n",
        "test_scores"
      ]
    },
    {
      "cell_type": "markdown",
      "source": [
        "## Run for models 1-3"
      ],
      "metadata": {
        "id": "o2fzggXHyM9y"
      }
    },
    {
      "cell_type": "code",
      "source": [
        "for i in range(len(models)-1):\n",
        "  sentiment_scores[i] = [get_sentiment_scores_by_sentences(lyrics, models[i], model_emotions[i]) for lyrics in processed_lyrics]"
      ],
      "metadata": {
        "id": "1BiVkE2wyPTe"
      },
      "execution_count": 141,
      "outputs": []
    },
    {
      "cell_type": "code",
      "source": [
        "for i in range(len(sentiment_scores)):\n",
        "  dominant_sentiments[i] = find_max_key(sentiment_scores[i], ignore_key='neutral')"
      ],
      "metadata": {
        "id": "SGYu3KWTCCzU"
      },
      "execution_count": 149,
      "outputs": []
    },
    {
      "cell_type": "markdown",
      "source": [
        "## Model4: t-5 base-finetuned-emotion"
      ],
      "metadata": {
        "id": "qGWK1iLWmogV"
      }
    },
    {
      "cell_type": "markdown",
      "source": [
        "For this model it is a little bit different, that's why we create a different function to handle it."
      ],
      "metadata": {
        "id": "TxXueqi5Cr34"
      }
    },
    {
      "cell_type": "code",
      "source": [
        "from transformers import AutoTokenizer, AutoModelWithLMHead\n",
        "from nltk.tokenize import sent_tokenize"
      ],
      "metadata": {
        "id": "CvIue6fUm0e8"
      },
      "execution_count": 98,
      "outputs": []
    },
    {
      "cell_type": "code",
      "source": [
        "tokenizer = AutoTokenizer.from_pretrained(\"mrm8488/t5-base-finetuned-emotion\")\n",
        "models.append(AutoModelWithLMHead.from_pretrained(\"mrm8488/t5-base-finetuned-emotion\"))"
      ],
      "metadata": {
        "colab": {
          "base_uri": "https://localhost:8080/"
        },
        "id": "Zsdt_ojvn5gU",
        "outputId": "a998ca96-d41d-4284-f443-1a56eac1cc87"
      },
      "execution_count": 119,
      "outputs": [
        {
          "output_type": "stream",
          "name": "stderr",
          "text": [
            "/usr/local/lib/python3.10/dist-packages/transformers/models/auto/modeling_auto.py:1499: FutureWarning: The class `AutoModelWithLMHead` is deprecated and will be removed in a future version. Please use `AutoModelForCausalLM` for causal language models, `AutoModelForMaskedLM` for masked language models and `AutoModelForSeq2SeqLM` for encoder-decoder models.\n",
            "  warnings.warn(\n"
          ]
        }
      ]
    },
    {
      "cell_type": "code",
      "source": [
        "emotion_mappings_single_label[3] = {\n",
        "    'sadness': 'Sadness',\n",
        "    'joy': 'Tenderness',\n",
        "    'love': 'Tenderness',\n",
        "    'anger': 'Tension',\n",
        "    'fear': 'Tension',\n",
        "    'surprise': 'Tension'\n",
        "}"
      ],
      "metadata": {
        "id": "AF5oBlY14pdk"
      },
      "execution_count": null,
      "outputs": []
    },
    {
      "cell_type": "code",
      "source": [
        "model_emotions[3] = ['sadness','joy','love','anger','fear','surprise']"
      ],
      "metadata": {
        "id": "zIqTh4PuFc-7"
      },
      "execution_count": null,
      "outputs": []
    },
    {
      "cell_type": "markdown",
      "source": [
        "# Splitting sentences"
      ],
      "metadata": {
        "id": "oFgzfJyDwwiR"
      }
    },
    {
      "cell_type": "markdown",
      "source": [
        "## Using sent_tokenize"
      ],
      "metadata": {
        "id": "jl1HfLDDnsEm"
      }
    },
    {
      "cell_type": "code",
      "source": [
        "import nltk\n",
        "nltk.download('punkt')"
      ],
      "metadata": {
        "colab": {
          "base_uri": "https://localhost:8080/"
        },
        "id": "hMLVpLIMUYg7",
        "outputId": "26dbcf74-8084-4197-f35d-ea2e40dbc588"
      },
      "execution_count": 104,
      "outputs": [
        {
          "output_type": "stream",
          "name": "stderr",
          "text": [
            "[nltk_data] Downloading package punkt to /root/nltk_data...\n",
            "[nltk_data]   Unzipping tokenizers/punkt.zip.\n"
          ]
        },
        {
          "output_type": "execute_result",
          "data": {
            "text/plain": [
              "True"
            ]
          },
          "metadata": {},
          "execution_count": 104
        }
      ]
    },
    {
      "cell_type": "code",
      "source": [
        "from nltk.tokenize import sent_tokenize\n",
        "from collections import Counter\n",
        "\n",
        "def get_aggregated_emotion_for_lyrics(lyrics, model):\n",
        "    # sentences = sent_tokenize(lyrics)\n",
        "    emotions = [get_emotion(sentence, model) for sentence in lyrics]\n",
        "    filtered_emotions = [sentence.replace('<pad> ', '') for sentence in emotions]\n",
        "    most_common_emotion = Counter(filtered_emotions).most_common(1)[0][0]\n",
        "    return most_common_emotion"
      ],
      "metadata": {
        "id": "XniVOTRWTx3U"
      },
      "execution_count": 130,
      "outputs": []
    },
    {
      "cell_type": "code",
      "source": [
        "get_aggregated_emotion_for_lyrics(processed_lyrics[0], models[3])"
      ],
      "metadata": {
        "id": "SMxeS2Trv1Dz",
        "outputId": "e6513d49-c9a9-4bdc-cd11-aea93bca3528",
        "colab": {
          "base_uri": "https://localhost:8080/",
          "height": 35
        }
      },
      "execution_count": 131,
      "outputs": [
        {
          "output_type": "execute_result",
          "data": {
            "text/plain": [
              "'anger'"
            ],
            "application/vnd.google.colaboratory.intrinsic+json": {
              "type": "string"
            }
          },
          "metadata": {},
          "execution_count": 131
        }
      ]
    },
    {
      "cell_type": "code",
      "source": [
        "dominant_sentiments[3] = [get_aggregated_emotion_for_lyrics(lyrics, models[3]) for lyrics in processed_lyrics]"
      ],
      "metadata": {
        "id": "oLOgsevaUG3y",
        "outputId": "58a6badf-1e01-4f69-fc77-2e7fd6828dea",
        "colab": {
          "base_uri": "https://localhost:8080/"
        }
      },
      "execution_count": 151,
      "outputs": [
        {
          "output_type": "stream",
          "name": "stderr",
          "text": [
            "Token indices sequence length is longer than the specified maximum sequence length for this model (541 > 512). Running this sequence through the model will result in indexing errors\n"
          ]
        }
      ]
    },
    {
      "cell_type": "markdown",
      "source": [
        "# Model Evaluation"
      ],
      "metadata": {
        "id": "TUczyu_lj4Oc"
      }
    },
    {
      "cell_type": "code",
      "source": [
        "total_songs = len(s_data)"
      ],
      "metadata": {
        "id": "imsOtB40NVWP"
      },
      "execution_count": 155,
      "outputs": []
    },
    {
      "cell_type": "code",
      "source": [
        "emotion_mappings = {\n",
        "    'love' : {'Single': 'Tenderness','Multi' : 'Tenderness'},\n",
        "    'admiration' : {'Single': 'Tenderness','Multi' : 'Amazement'},\n",
        "    'approval' : {'Single': 'Tenderness','Multi' : 'Power'},\n",
        "    'joy' : {'Single': 'Tenderness','Multi' : 'Joyful activation'},\n",
        "    'optimism' : {'Single': 'Tenderness','Multi' : 'Joyful activation'},\n",
        "    'gratitude' : {'Single': 'Tenderness','Multi' : 'Power'},\n",
        "    'desire' : {'Single': '','Multi' : 'Nostalgia'},\n",
        "    'annoyance' : {'Single': 'Tension','Multi' : 'Tension'},\n",
        "    'caring' : {'Single': 'Tenderness','Multi' : 'Tenderness'},\n",
        "    'disapproval' : {'Single': 'Tension','Multi' : 'Tension'},\n",
        "    'anger' : {'Single': 'Tension','Multi' : 'Tension'},\n",
        "    'realization' : {'Single': 'Tension','Multi' : 'Solemnity'},\n",
        "    'sadness' : {'Single': 'Sadness','Multi' : 'Sadness'},\n",
        "    'excitement' : {'Single': 'Tension','Multi' : 'Joyful activation'},\n",
        "    'disappointment' : {'Single': 'Sadness', 'Multi' : 'Sadness'},\n",
        "    'amusement' : {'Single': 'Tenderness','Multi' : 'Joyful activation'},\n",
        "    'confusion' : {'Single': 'Tension','Multi' : 'Tension'},\n",
        "    'disgust' : {'Single': 'Tension','Multi' : 'Tension'},\n",
        "    'curiosity' : {'Single': 'Tension','Multi' : 'Tension'},\n",
        "    'surprise' : {'Single': 'Tension','Multi' : 'Amazement'},\n",
        "    'remorse' : {'Single': 'Sadness','Multi' : 'Sadness'},\n",
        "    'fear' : {'Single': '','Multi' : 'Tension'},\n",
        "    'nervousness' : {'Single': 'Tension','Multi' : 'Tension'},\n",
        "    'embarrassment' : {'Single': 'Tension','Multi' : 'Tension'},\n",
        "    'grief' : {'Single': 'Sadness','Multi' : 'Sadness'},\n",
        "    'pride' : {'Single': 'Tenderness','Multi' : 'Joyful activation'},\n",
        "    'relief' : {'Single': 'Tenderness','Multi' : 'Tenderness'}\n",
        "}"
      ],
      "metadata": {
        "id": "72rr_ouuIorO"
      },
      "execution_count": 163,
      "outputs": []
    },
    {
      "cell_type": "code",
      "source": [
        "s_mapped_predictions = {}\n",
        "m_mapped_predictions = {}"
      ],
      "metadata": {
        "id": "xIfMERfXG8Tl"
      },
      "execution_count": 157,
      "outputs": []
    },
    {
      "cell_type": "code",
      "source": [
        "s_accuracy = {}\n",
        "m_accuracy = {}"
      ],
      "metadata": {
        "id": "ZGIdl-CrNier"
      },
      "execution_count": 167,
      "outputs": []
    },
    {
      "cell_type": "markdown",
      "source": [
        "## Single Label"
      ],
      "metadata": {
        "id": "695dQCuBlI0V"
      }
    },
    {
      "cell_type": "code",
      "source": [
        "s_original_emotions = s_data['label']"
      ],
      "metadata": {
        "id": "J_bC2ZK_MZv6"
      },
      "execution_count": 159,
      "outputs": []
    },
    {
      "cell_type": "code",
      "source": [
        "for i in range(len(models)):\n",
        "  s_mapped_predictions[i] = [emotion_mappings[dominant]['Single'] for dominant in dominant_sentiments[i]]\n",
        "  s_accuracy[i] = calculate_accuracy(s_original_emotions, s_mapped_predictions[i])"
      ],
      "metadata": {
        "id": "Kn-8DRY3j7oe"
      },
      "execution_count": 168,
      "outputs": []
    },
    {
      "cell_type": "code",
      "source": [
        "s_accuracy"
      ],
      "metadata": {
        "id": "PDfGPmJoRpE6",
        "outputId": "73ebdbcd-1bfb-4bd8-e978-a8c7c9d72e53",
        "colab": {
          "base_uri": "https://localhost:8080/"
        }
      },
      "execution_count": 169,
      "outputs": [
        {
          "output_type": "execute_result",
          "data": {
            "text/plain": [
              "{0: 0.45, 1: 0.4267241379310345, 2: 0.3758620689655172, 3: 0.36982758620689654}"
            ]
          },
          "metadata": {},
          "execution_count": 169
        }
      ]
    },
    {
      "cell_type": "markdown",
      "source": [
        "## Multi Label"
      ],
      "metadata": {
        "id": "1F-MnxEplMcy"
      }
    },
    {
      "cell_type": "code",
      "source": [
        "m_original_emotions = m_data['labels']"
      ],
      "metadata": {
        "id": "371YC4-AMj77"
      },
      "execution_count": 170,
      "outputs": []
    },
    {
      "cell_type": "code",
      "source": [
        "emotion_mappings['admiration']['Multi']"
      ],
      "metadata": {
        "id": "BQG8c9FQSWR6",
        "outputId": "365c43f3-e421-45e4-8e09-099f711b4f61",
        "colab": {
          "base_uri": "https://localhost:8080/",
          "height": 35
        }
      },
      "execution_count": 173,
      "outputs": [
        {
          "output_type": "execute_result",
          "data": {
            "text/plain": [
              "'Amazement'"
            ],
            "application/vnd.google.colaboratory.intrinsic+json": {
              "type": "string"
            }
          },
          "metadata": {},
          "execution_count": 173
        }
      ]
    },
    {
      "cell_type": "code",
      "source": [
        "for i in range(len(models)):\n",
        "  m_mapped_predictions[i] = [emotion_mappings[dominant]['Multi'] for dominant in dominant_sentiments[i]]\n",
        "  m_accuracy[i] = calculate_accuracy(m_original_emotions, m_mapped_predictions[i],singleLabel=False)"
      ],
      "metadata": {
        "id": "ZF5FzX1QlOAx"
      },
      "execution_count": 175,
      "outputs": []
    },
    {
      "cell_type": "code",
      "source": [
        "m_accuracy"
      ],
      "metadata": {
        "id": "vqeqQ3DnRzV5",
        "outputId": "859025da-7c4a-4852-8d37-9f6e01ac0df6",
        "colab": {
          "base_uri": "https://localhost:8080/"
        }
      },
      "execution_count": 176,
      "outputs": [
        {
          "output_type": "execute_result",
          "data": {
            "text/plain": [
              "{0: 0.6120689655172413,\n",
              " 1: 0.5793103448275863,\n",
              " 2: 0.5232758620689655,\n",
              " 3: 0.4939655172413793}"
            ]
          },
          "metadata": {},
          "execution_count": 176
        }
      ]
    },
    {
      "cell_type": "markdown",
      "source": [
        "# Visualization"
      ],
      "metadata": {
        "id": "r056VRQv-Xwc"
      }
    },
    {
      "cell_type": "code",
      "source": [
        "pip install matplotlib seaborn"
      ],
      "metadata": {
        "colab": {
          "base_uri": "https://localhost:8080/"
        },
        "id": "3pp0gLn45P_J",
        "outputId": "a2e22693-1d67-4148-b5b6-a3b5f9e7d312"
      },
      "execution_count": null,
      "outputs": [
        {
          "output_type": "stream",
          "name": "stdout",
          "text": [
            "Requirement already satisfied: matplotlib in /usr/local/lib/python3.10/dist-packages (3.7.1)\n",
            "Requirement already satisfied: seaborn in /usr/local/lib/python3.10/dist-packages (0.12.2)\n",
            "Requirement already satisfied: contourpy>=1.0.1 in /usr/local/lib/python3.10/dist-packages (from matplotlib) (1.1.1)\n",
            "Requirement already satisfied: cycler>=0.10 in /usr/local/lib/python3.10/dist-packages (from matplotlib) (0.12.1)\n",
            "Requirement already satisfied: fonttools>=4.22.0 in /usr/local/lib/python3.10/dist-packages (from matplotlib) (4.43.1)\n",
            "Requirement already satisfied: kiwisolver>=1.0.1 in /usr/local/lib/python3.10/dist-packages (from matplotlib) (1.4.5)\n",
            "Requirement already satisfied: numpy>=1.20 in /usr/local/lib/python3.10/dist-packages (from matplotlib) (1.23.5)\n",
            "Requirement already satisfied: packaging>=20.0 in /usr/local/lib/python3.10/dist-packages (from matplotlib) (23.2)\n",
            "Requirement already satisfied: pillow>=6.2.0 in /usr/local/lib/python3.10/dist-packages (from matplotlib) (9.4.0)\n",
            "Requirement already satisfied: pyparsing>=2.3.1 in /usr/local/lib/python3.10/dist-packages (from matplotlib) (3.1.1)\n",
            "Requirement already satisfied: python-dateutil>=2.7 in /usr/local/lib/python3.10/dist-packages (from matplotlib) (2.8.2)\n",
            "Requirement already satisfied: pandas>=0.25 in /usr/local/lib/python3.10/dist-packages (from seaborn) (1.5.3)\n",
            "Requirement already satisfied: pytz>=2020.1 in /usr/local/lib/python3.10/dist-packages (from pandas>=0.25->seaborn) (2023.3.post1)\n",
            "Requirement already satisfied: six>=1.5 in /usr/local/lib/python3.10/dist-packages (from python-dateutil>=2.7->matplotlib) (1.16.0)\n"
          ]
        }
      ]
    },
    {
      "cell_type": "code",
      "source": [
        "import matplotlib.pyplot as plt\n",
        "import seaborn as sns\n",
        "\n",
        "# Setting the style for seaborn\n",
        "sns.set_style(\"whitegrid\")\n",
        "\n",
        "# Plot for original_emotion distribution\n",
        "plt.figure(figsize=(10, 6))\n",
        "sns.countplot(data=s_data, x='label', order=s_data['label'].value_counts().index)\n",
        "plt.title('Distribution of Original Emotions')\n",
        "plt.ylabel('Count')\n",
        "plt.xlabel('Emotion')\n",
        "plt.show()\n",
        "\n",
        "# Plot for mapped_emotion distribution\n",
        "plt.figure(figsize=(10, 6))\n",
        "sns.countplot(data=s_data, x='mapped_emotion', order=s_data['mapped_emotion'].value_counts().index)\n",
        "plt.title('Distribution of Mapped Emotions')\n",
        "plt.ylabel('Count')\n",
        "plt.xlabel('Emotion')\n",
        "plt.show()"
      ],
      "metadata": {
        "colab": {
          "base_uri": "https://localhost:8080/",
          "height": 1000
        },
        "id": "qU2By_C_5X0O",
        "outputId": "ef4cb194-f9bf-45ab-dc06-f8eea2051b00"
      },
      "execution_count": null,
      "outputs": [
        {
          "output_type": "display_data",
          "data": {
            "text/plain": [
              "<Figure size 1000x600 with 1 Axes>"
            ],
            "image/png": "[encoded data removed]"
          },
          "metadata": {}
        },
        {
          "output_type": "display_data",
          "data": {
            "text/plain": [
              "<Figure size 1000x600 with 1 Axes>"
            ],
            "image/png": "[encoded data removed]"
          },
          "metadata": {}
        }
      ]
    },
    {
      "cell_type": "code",
      "source": [
        "import numpy as np\n",
        "from sklearn.metrics import confusion_matrix\n",
        "import matplotlib.pyplot as plt\n",
        "import seaborn as sns\n",
        "\n",
        "# Calculate the confusion matrix\n",
        "cm = confusion_matrix(original_emotion, mapped_emotion, labels=list(emotion_mapping.values()))\n",
        "\n",
        "# Calculate per-category accuracy\n",
        "accuracies = cm.diagonal() / cm.sum(axis=1)\n",
        "\n",
        "# Mapping of emotions to their accuracies\n",
        "emotion_accuracy = dict(zip(list(emotion_mapping.values()), accuracies))\n",
        "\n",
        "# Visualize the accuracies\n",
        "plt.figure(figsize=(10, 6))\n",
        "sns.barplot(x=list(emotion_accuracy.keys()), y=list(emotion_accuracy.values()), palette=\"viridis\")\n",
        "plt.title('Prediction Accuracy for Each Emotion Category')\n",
        "plt.ylabel('Accuracy')\n",
        "plt.xlabel('Emotion')\n",
        "plt.ylim(0, 1)  # Setting y-axis limits to be between 0 and 1 for clarity\n",
        "plt.show()"
      ],
      "metadata": {
        "colab": {
          "base_uri": "https://localhost:8080/",
          "height": 600
        },
        "id": "8BJLbj9H5X2_",
        "outputId": "07da4a52-2be3-4327-ba0d-64805646aa04"
      },
      "execution_count": null,
      "outputs": [
        {
          "output_type": "stream",
          "name": "stderr",
          "text": [
            "<ipython-input-58-5c15e2da70f4>:10: RuntimeWarning: invalid value encountered in divide\n",
            "  accuracies = cm.diagonal() / cm.sum(axis=1)\n"
          ]
        },
        {
          "output_type": "display_data",
          "data": {
            "text/plain": [
              "<Figure size 1000x600 with 1 Axes>"
            ],
            "image/png": "[encoded data removed]"
          },
          "metadata": {}
        }
      ]
    },
    {
      "cell_type": "code",
      "source": [
        "from sklearn.metrics import confusion_matrix\n",
        "import seaborn as sns\n",
        "import matplotlib.pyplot as plt\n",
        "\n",
        "# Get unique labels from both original and mapped emotions\n",
        "unique_labels = list(set(original_emotion) | set(mapped_emotion))\n",
        "\n",
        "# Calculate the confusion matrix\n",
        "cm = confusion_matrix(original_emotion, mapped_emotion, labels=unique_labels)\n",
        "\n",
        "# Visualize the confusion matrix\n",
        "plt.figure(figsize=(12, 8))\n",
        "sns.heatmap(cm, annot=True, fmt='g', cmap='Blues', xticklabels=unique_labels, yticklabels=unique_labels)\n",
        "plt.title('Confusion Matrix')\n",
        "plt.ylabel('True Labels')\n",
        "plt.xlabel('Predicted Labels')\n",
        "plt.show()"
      ],
      "metadata": {
        "colab": {
          "base_uri": "https://localhost:8080/",
          "height": 718
        },
        "id": "7YqM_L_35X5v",
        "outputId": "03df27c3-ed7f-41cc-ec93-509252302675"
      },
      "execution_count": null,
      "outputs": [
        {
          "output_type": "display_data",
          "data": {
            "text/plain": [
              "<Figure size 1200x800 with 2 Axes>"
            ],
            "image/png": "[encoded data removed]"
          },
          "metadata": {}
        }
      ]
    }
  ]
}